{
  "nbformat": 4,
  "nbformat_minor": 0,
  "metadata": {
    "colab": {
      "provenance": [],
      "collapsed_sections": [],
      "authorship_tag": "ABX9TyN9aZt8wvAFQ+Gz0aG/SdNt",
      "include_colab_link": true
    },
    "kernelspec": {
      "name": "python3",
      "display_name": "Python 3"
    },
    "language_info": {
      "name": "python"
    }
  },
  "cells": [
    {
      "cell_type": "markdown",
      "metadata": {
        "id": "view-in-github",
        "colab_type": "text"
      },
      "source": [
        "<a href=\"https://colab.research.google.com/github/starkjones/Food-Sales-Predictions/blob/main/Food_Sales_Prediction.ipynb\" target=\"_parent\"><img src=\"https://colab.research.google.com/assets/colab-badge.svg\" alt=\"Open In Colab\"/></a>"
      ]
    },
    {
      "cell_type": "markdown",
      "source": [
        "#GROCERY-SALES-PROJECTIONS\n",
        "##PREDICTING SALES VOLUME AT VARIOUS STORES\n",
        "####Jonathan Jones\n",
        "####22.04.29"
      ],
      "metadata": {
        "id": "pX2IwOBMgPqv"
      }
    },
    {
      "cell_type": "code",
      "source": [
        "import pandas as pd\n",
        "import numpy as np\n",
        "import matplotlib.pyplot as plt\n",
        "import seaborn as sns\n",
        "\n",
        "from google.colab import drive\n",
        "drive.mount('/content/drive')"
      ],
      "metadata": {
        "id": "GzzIfs24gnio",
        "colab": {
          "base_uri": "https://localhost:8080/"
        },
        "outputId": "58f06d2c-99fc-4c7a-8aff-9d0fa0143273"
      },
      "execution_count": 1,
      "outputs": [
        {
          "output_type": "stream",
          "name": "stdout",
          "text": [
            "Mounted at /content/drive\n"
          ]
        }
      ]
    },
    {
      "cell_type": "code",
      "source": [
        "sales_data = '/content/drive/MyDrive/Colab Notebooks/Week 1/sales_predictions.csv'\n",
        "df = pd.read_csv(sales_data)\n",
        "df.head(10)\n",
        "\n",
        "# Initial peek at data"
      ],
      "metadata": {
        "id": "tPaPWNQOKsbS",
        "colab": {
          "base_uri": "https://localhost:8080/",
          "height": 600
        },
        "outputId": "3e8462b4-929b-4074-a6bb-1d577c371748"
      },
      "execution_count": 2,
      "outputs": [
        {
          "output_type": "execute_result",
          "data": {
            "text/plain": [
              "  Item_Identifier  Item_Weight Item_Fat_Content  Item_Visibility  \\\n",
              "0           FDA15        9.300          Low Fat         0.016047   \n",
              "1           DRC01        5.920          Regular         0.019278   \n",
              "2           FDN15       17.500          Low Fat         0.016760   \n",
              "3           FDX07       19.200          Regular         0.000000   \n",
              "4           NCD19        8.930          Low Fat         0.000000   \n",
              "5           FDP36       10.395          Regular         0.000000   \n",
              "6           FDO10       13.650          Regular         0.012741   \n",
              "7           FDP10          NaN          Low Fat         0.127470   \n",
              "8           FDH17       16.200          Regular         0.016687   \n",
              "9           FDU28       19.200          Regular         0.094450   \n",
              "\n",
              "               Item_Type  Item_MRP Outlet_Identifier  \\\n",
              "0                  Dairy  249.8092            OUT049   \n",
              "1            Soft Drinks   48.2692            OUT018   \n",
              "2                   Meat  141.6180            OUT049   \n",
              "3  Fruits and Vegetables  182.0950            OUT010   \n",
              "4              Household   53.8614            OUT013   \n",
              "5           Baking Goods   51.4008            OUT018   \n",
              "6            Snack Foods   57.6588            OUT013   \n",
              "7            Snack Foods  107.7622            OUT027   \n",
              "8           Frozen Foods   96.9726            OUT045   \n",
              "9           Frozen Foods  187.8214            OUT017   \n",
              "\n",
              "   Outlet_Establishment_Year Outlet_Size Outlet_Location_Type  \\\n",
              "0                       1999      Medium               Tier 1   \n",
              "1                       2009      Medium               Tier 3   \n",
              "2                       1999      Medium               Tier 1   \n",
              "3                       1998         NaN               Tier 3   \n",
              "4                       1987        High               Tier 3   \n",
              "5                       2009      Medium               Tier 3   \n",
              "6                       1987        High               Tier 3   \n",
              "7                       1985      Medium               Tier 3   \n",
              "8                       2002         NaN               Tier 2   \n",
              "9                       2007         NaN               Tier 2   \n",
              "\n",
              "         Outlet_Type  Item_Outlet_Sales  \n",
              "0  Supermarket Type1          3735.1380  \n",
              "1  Supermarket Type2           443.4228  \n",
              "2  Supermarket Type1          2097.2700  \n",
              "3      Grocery Store           732.3800  \n",
              "4  Supermarket Type1           994.7052  \n",
              "5  Supermarket Type2           556.6088  \n",
              "6  Supermarket Type1           343.5528  \n",
              "7  Supermarket Type3          4022.7636  \n",
              "8  Supermarket Type1          1076.5986  \n",
              "9  Supermarket Type1          4710.5350  "
            ],
            "text/html": [
              "\n",
              "  <div id=\"df-1283a278-c784-4b7e-b31b-824ba5236771\">\n",
              "    <div class=\"colab-df-container\">\n",
              "      <div>\n",
              "<style scoped>\n",
              "    .dataframe tbody tr th:only-of-type {\n",
              "        vertical-align: middle;\n",
              "    }\n",
              "\n",
              "    .dataframe tbody tr th {\n",
              "        vertical-align: top;\n",
              "    }\n",
              "\n",
              "    .dataframe thead th {\n",
              "        text-align: right;\n",
              "    }\n",
              "</style>\n",
              "<table border=\"1\" class=\"dataframe\">\n",
              "  <thead>\n",
              "    <tr style=\"text-align: right;\">\n",
              "      <th></th>\n",
              "      <th>Item_Identifier</th>\n",
              "      <th>Item_Weight</th>\n",
              "      <th>Item_Fat_Content</th>\n",
              "      <th>Item_Visibility</th>\n",
              "      <th>Item_Type</th>\n",
              "      <th>Item_MRP</th>\n",
              "      <th>Outlet_Identifier</th>\n",
              "      <th>Outlet_Establishment_Year</th>\n",
              "      <th>Outlet_Size</th>\n",
              "      <th>Outlet_Location_Type</th>\n",
              "      <th>Outlet_Type</th>\n",
              "      <th>Item_Outlet_Sales</th>\n",
              "    </tr>\n",
              "  </thead>\n",
              "  <tbody>\n",
              "    <tr>\n",
              "      <th>0</th>\n",
              "      <td>FDA15</td>\n",
              "      <td>9.300</td>\n",
              "      <td>Low Fat</td>\n",
              "      <td>0.016047</td>\n",
              "      <td>Dairy</td>\n",
              "      <td>249.8092</td>\n",
              "      <td>OUT049</td>\n",
              "      <td>1999</td>\n",
              "      <td>Medium</td>\n",
              "      <td>Tier 1</td>\n",
              "      <td>Supermarket Type1</td>\n",
              "      <td>3735.1380</td>\n",
              "    </tr>\n",
              "    <tr>\n",
              "      <th>1</th>\n",
              "      <td>DRC01</td>\n",
              "      <td>5.920</td>\n",
              "      <td>Regular</td>\n",
              "      <td>0.019278</td>\n",
              "      <td>Soft Drinks</td>\n",
              "      <td>48.2692</td>\n",
              "      <td>OUT018</td>\n",
              "      <td>2009</td>\n",
              "      <td>Medium</td>\n",
              "      <td>Tier 3</td>\n",
              "      <td>Supermarket Type2</td>\n",
              "      <td>443.4228</td>\n",
              "    </tr>\n",
              "    <tr>\n",
              "      <th>2</th>\n",
              "      <td>FDN15</td>\n",
              "      <td>17.500</td>\n",
              "      <td>Low Fat</td>\n",
              "      <td>0.016760</td>\n",
              "      <td>Meat</td>\n",
              "      <td>141.6180</td>\n",
              "      <td>OUT049</td>\n",
              "      <td>1999</td>\n",
              "      <td>Medium</td>\n",
              "      <td>Tier 1</td>\n",
              "      <td>Supermarket Type1</td>\n",
              "      <td>2097.2700</td>\n",
              "    </tr>\n",
              "    <tr>\n",
              "      <th>3</th>\n",
              "      <td>FDX07</td>\n",
              "      <td>19.200</td>\n",
              "      <td>Regular</td>\n",
              "      <td>0.000000</td>\n",
              "      <td>Fruits and Vegetables</td>\n",
              "      <td>182.0950</td>\n",
              "      <td>OUT010</td>\n",
              "      <td>1998</td>\n",
              "      <td>NaN</td>\n",
              "      <td>Tier 3</td>\n",
              "      <td>Grocery Store</td>\n",
              "      <td>732.3800</td>\n",
              "    </tr>\n",
              "    <tr>\n",
              "      <th>4</th>\n",
              "      <td>NCD19</td>\n",
              "      <td>8.930</td>\n",
              "      <td>Low Fat</td>\n",
              "      <td>0.000000</td>\n",
              "      <td>Household</td>\n",
              "      <td>53.8614</td>\n",
              "      <td>OUT013</td>\n",
              "      <td>1987</td>\n",
              "      <td>High</td>\n",
              "      <td>Tier 3</td>\n",
              "      <td>Supermarket Type1</td>\n",
              "      <td>994.7052</td>\n",
              "    </tr>\n",
              "    <tr>\n",
              "      <th>5</th>\n",
              "      <td>FDP36</td>\n",
              "      <td>10.395</td>\n",
              "      <td>Regular</td>\n",
              "      <td>0.000000</td>\n",
              "      <td>Baking Goods</td>\n",
              "      <td>51.4008</td>\n",
              "      <td>OUT018</td>\n",
              "      <td>2009</td>\n",
              "      <td>Medium</td>\n",
              "      <td>Tier 3</td>\n",
              "      <td>Supermarket Type2</td>\n",
              "      <td>556.6088</td>\n",
              "    </tr>\n",
              "    <tr>\n",
              "      <th>6</th>\n",
              "      <td>FDO10</td>\n",
              "      <td>13.650</td>\n",
              "      <td>Regular</td>\n",
              "      <td>0.012741</td>\n",
              "      <td>Snack Foods</td>\n",
              "      <td>57.6588</td>\n",
              "      <td>OUT013</td>\n",
              "      <td>1987</td>\n",
              "      <td>High</td>\n",
              "      <td>Tier 3</td>\n",
              "      <td>Supermarket Type1</td>\n",
              "      <td>343.5528</td>\n",
              "    </tr>\n",
              "    <tr>\n",
              "      <th>7</th>\n",
              "      <td>FDP10</td>\n",
              "      <td>NaN</td>\n",
              "      <td>Low Fat</td>\n",
              "      <td>0.127470</td>\n",
              "      <td>Snack Foods</td>\n",
              "      <td>107.7622</td>\n",
              "      <td>OUT027</td>\n",
              "      <td>1985</td>\n",
              "      <td>Medium</td>\n",
              "      <td>Tier 3</td>\n",
              "      <td>Supermarket Type3</td>\n",
              "      <td>4022.7636</td>\n",
              "    </tr>\n",
              "    <tr>\n",
              "      <th>8</th>\n",
              "      <td>FDH17</td>\n",
              "      <td>16.200</td>\n",
              "      <td>Regular</td>\n",
              "      <td>0.016687</td>\n",
              "      <td>Frozen Foods</td>\n",
              "      <td>96.9726</td>\n",
              "      <td>OUT045</td>\n",
              "      <td>2002</td>\n",
              "      <td>NaN</td>\n",
              "      <td>Tier 2</td>\n",
              "      <td>Supermarket Type1</td>\n",
              "      <td>1076.5986</td>\n",
              "    </tr>\n",
              "    <tr>\n",
              "      <th>9</th>\n",
              "      <td>FDU28</td>\n",
              "      <td>19.200</td>\n",
              "      <td>Regular</td>\n",
              "      <td>0.094450</td>\n",
              "      <td>Frozen Foods</td>\n",
              "      <td>187.8214</td>\n",
              "      <td>OUT017</td>\n",
              "      <td>2007</td>\n",
              "      <td>NaN</td>\n",
              "      <td>Tier 2</td>\n",
              "      <td>Supermarket Type1</td>\n",
              "      <td>4710.5350</td>\n",
              "    </tr>\n",
              "  </tbody>\n",
              "</table>\n",
              "</div>\n",
              "      <button class=\"colab-df-convert\" onclick=\"convertToInteractive('df-1283a278-c784-4b7e-b31b-824ba5236771')\"\n",
              "              title=\"Convert this dataframe to an interactive table.\"\n",
              "              style=\"display:none;\">\n",
              "        \n",
              "  <svg xmlns=\"http://www.w3.org/2000/svg\" height=\"24px\"viewBox=\"0 0 24 24\"\n",
              "       width=\"24px\">\n",
              "    <path d=\"M0 0h24v24H0V0z\" fill=\"none\"/>\n",
              "    <path d=\"M18.56 5.44l.94 2.06.94-2.06 2.06-.94-2.06-.94-.94-2.06-.94 2.06-2.06.94zm-11 1L8.5 8.5l.94-2.06 2.06-.94-2.06-.94L8.5 2.5l-.94 2.06-2.06.94zm10 10l.94 2.06.94-2.06 2.06-.94-2.06-.94-.94-2.06-.94 2.06-2.06.94z\"/><path d=\"M17.41 7.96l-1.37-1.37c-.4-.4-.92-.59-1.43-.59-.52 0-1.04.2-1.43.59L10.3 9.45l-7.72 7.72c-.78.78-.78 2.05 0 2.83L4 21.41c.39.39.9.59 1.41.59.51 0 1.02-.2 1.41-.59l7.78-7.78 2.81-2.81c.8-.78.8-2.07 0-2.86zM5.41 20L4 18.59l7.72-7.72 1.47 1.35L5.41 20z\"/>\n",
              "  </svg>\n",
              "      </button>\n",
              "      \n",
              "  <style>\n",
              "    .colab-df-container {\n",
              "      display:flex;\n",
              "      flex-wrap:wrap;\n",
              "      gap: 12px;\n",
              "    }\n",
              "\n",
              "    .colab-df-convert {\n",
              "      background-color: #E8F0FE;\n",
              "      border: none;\n",
              "      border-radius: 50%;\n",
              "      cursor: pointer;\n",
              "      display: none;\n",
              "      fill: #1967D2;\n",
              "      height: 32px;\n",
              "      padding: 0 0 0 0;\n",
              "      width: 32px;\n",
              "    }\n",
              "\n",
              "    .colab-df-convert:hover {\n",
              "      background-color: #E2EBFA;\n",
              "      box-shadow: 0px 1px 2px rgba(60, 64, 67, 0.3), 0px 1px 3px 1px rgba(60, 64, 67, 0.15);\n",
              "      fill: #174EA6;\n",
              "    }\n",
              "\n",
              "    [theme=dark] .colab-df-convert {\n",
              "      background-color: #3B4455;\n",
              "      fill: #D2E3FC;\n",
              "    }\n",
              "\n",
              "    [theme=dark] .colab-df-convert:hover {\n",
              "      background-color: #434B5C;\n",
              "      box-shadow: 0px 1px 3px 1px rgba(0, 0, 0, 0.15);\n",
              "      filter: drop-shadow(0px 1px 2px rgba(0, 0, 0, 0.3));\n",
              "      fill: #FFFFFF;\n",
              "    }\n",
              "  </style>\n",
              "\n",
              "      <script>\n",
              "        const buttonEl =\n",
              "          document.querySelector('#df-1283a278-c784-4b7e-b31b-824ba5236771 button.colab-df-convert');\n",
              "        buttonEl.style.display =\n",
              "          google.colab.kernel.accessAllowed ? 'block' : 'none';\n",
              "\n",
              "        async function convertToInteractive(key) {\n",
              "          const element = document.querySelector('#df-1283a278-c784-4b7e-b31b-824ba5236771');\n",
              "          const dataTable =\n",
              "            await google.colab.kernel.invokeFunction('convertToInteractive',\n",
              "                                                     [key], {});\n",
              "          if (!dataTable) return;\n",
              "\n",
              "          const docLinkHtml = 'Like what you see? Visit the ' +\n",
              "            '<a target=\"_blank\" href=https://colab.research.google.com/notebooks/data_table.ipynb>data table notebook</a>'\n",
              "            + ' to learn more about interactive tables.';\n",
              "          element.innerHTML = '';\n",
              "          dataTable['output_type'] = 'display_data';\n",
              "          await google.colab.output.renderOutput(dataTable, element);\n",
              "          const docLink = document.createElement('div');\n",
              "          docLink.innerHTML = docLinkHtml;\n",
              "          element.appendChild(docLink);\n",
              "        }\n",
              "      </script>\n",
              "    </div>\n",
              "  </div>\n",
              "  "
            ]
          },
          "metadata": {},
          "execution_count": 2
        }
      ]
    },
    {
      "cell_type": "code",
      "source": [
        "# Making a copy of the original dataframe for Machine Learning\n",
        "\n",
        "df_ML = df.copy(deep=True)"
      ],
      "metadata": {
        "id": "Jsc8on0i_imq"
      },
      "execution_count": 3,
      "outputs": []
    },
    {
      "cell_type": "markdown",
      "source": [
        "# DATA EXPLORATION & DATA CLEANING "
      ],
      "metadata": {
        "id": "l2PmV3T8uD_e"
      }
    },
    {
      "cell_type": "code",
      "source": [
        "# Further exploration of the imported data \n",
        "# identifying the dataframe's dimensions \n",
        "\n",
        "df.shape \n",
        "\n",
        "# (8523 rows, 12 columns)"
      ],
      "metadata": {
        "id": "jzMJPszFJpLY",
        "colab": {
          "base_uri": "https://localhost:8080/"
        },
        "outputId": "cc5cefd5-a3db-491a-952a-a634e81b9cd7"
      },
      "execution_count": 4,
      "outputs": [
        {
          "output_type": "execute_result",
          "data": {
            "text/plain": [
              "(8523, 12)"
            ]
          },
          "metadata": {},
          "execution_count": 4
        }
      ]
    },
    {
      "cell_type": "code",
      "source": [
        "# Number of unique values in each column:\n",
        "\n",
        "df.nunique()"
      ],
      "metadata": {
        "colab": {
          "base_uri": "https://localhost:8080/"
        },
        "id": "fkSsWAWdV2_r",
        "outputId": "6a974df1-cab3-4365-f35b-68767eb599db"
      },
      "execution_count": 60,
      "outputs": [
        {
          "output_type": "execute_result",
          "data": {
            "text/plain": [
              "Item_Identifier              1559\n",
              "Item_Weight                   416\n",
              "Item_Fat_Content                2\n",
              "Item_Visibility              7880\n",
              "Item_Type                      16\n",
              "Item_MRP                     5938\n",
              "Outlet_Identifier              10\n",
              "Outlet_Establishment_Year       9\n",
              "Outlet_Size                     3\n",
              "Outlet_Location_Type            3\n",
              "Outlet_Type                     4\n",
              "Item_Outlet_Sales            3493\n",
              "dtype: int64"
            ]
          },
          "metadata": {},
          "execution_count": 60
        }
      ]
    },
    {
      "cell_type": "code",
      "source": [
        "# What are the datatypes of each variable?\n",
        "\n",
        "df.info()"
      ],
      "metadata": {
        "id": "HwSKI7VOLd10",
        "colab": {
          "base_uri": "https://localhost:8080/"
        },
        "outputId": "343de04a-6bcf-4199-8d14-e063541d52f8"
      },
      "execution_count": 5,
      "outputs": [
        {
          "output_type": "stream",
          "name": "stdout",
          "text": [
            "<class 'pandas.core.frame.DataFrame'>\n",
            "RangeIndex: 8523 entries, 0 to 8522\n",
            "Data columns (total 12 columns):\n",
            " #   Column                     Non-Null Count  Dtype  \n",
            "---  ------                     --------------  -----  \n",
            " 0   Item_Identifier            8523 non-null   object \n",
            " 1   Item_Weight                7060 non-null   float64\n",
            " 2   Item_Fat_Content           8523 non-null   object \n",
            " 3   Item_Visibility            8523 non-null   float64\n",
            " 4   Item_Type                  8523 non-null   object \n",
            " 5   Item_MRP                   8523 non-null   float64\n",
            " 6   Outlet_Identifier          8523 non-null   object \n",
            " 7   Outlet_Establishment_Year  8523 non-null   int64  \n",
            " 8   Outlet_Size                6113 non-null   object \n",
            " 9   Outlet_Location_Type       8523 non-null   object \n",
            " 10  Outlet_Type                8523 non-null   object \n",
            " 11  Item_Outlet_Sales          8523 non-null   float64\n",
            "dtypes: float64(4), int64(1), object(7)\n",
            "memory usage: 799.2+ KB\n"
          ]
        }
      ]
    },
    {
      "cell_type": "markdown",
      "source": [
        " ### Index  Column Name                Non-Null Count  Dtype \n",
        "\n",
        "    0      Item_Identifier            8523 non-null   object \n",
        "    1      Item_Weight                7060 non-null   float64\n",
        "    2      Item_Fat_Content           8523 non-null   object \n",
        "    3      Item_Visibility            8523 non-null   float64\n",
        "    4      Item_Type                  8523 non-null   object \n",
        "    5      Item_MRP                   8523 non-null   float64\n",
        "    6      Outlet_Identifier          8523 non-null   object \n",
        "    7      Outlet_Establishment_Year  8523 non-null   int64  \n",
        "    8      Outlet_Size                6113 non-null   object \n",
        "    9      Outlet_Location_Type       8523 non-null   object \n",
        "    10     Outlet_Type                8523 non-null   object \n",
        "    11     Item_Outlet_Sales          8523 non-null   float64"
      ],
      "metadata": {
        "id": "gaTr4yy6Eb7k"
      }
    },
    {
      "cell_type": "code",
      "source": [
        "# Identification and removal of duplicated rows:\n",
        "\n",
        "df.duplicated().sum()\n",
        "\n",
        "# No duplicates present"
      ],
      "metadata": {
        "id": "r1fKbV8WQBxI",
        "colab": {
          "base_uri": "https://localhost:8080/"
        },
        "outputId": "942808cf-c696-4546-fe4a-63202fb22f2c"
      },
      "execution_count": 6,
      "outputs": [
        {
          "output_type": "execute_result",
          "data": {
            "text/plain": [
              "0"
            ]
          },
          "metadata": {},
          "execution_count": 6
        }
      ]
    },
    {
      "cell_type": "code",
      "source": [
        "# Identification of missing values:\n",
        "\n",
        "df.isna().sum()"
      ],
      "metadata": {
        "id": "V-3YbpS5Qsxw",
        "colab": {
          "base_uri": "https://localhost:8080/"
        },
        "outputId": "9e7bc80a-0dae-41b0-f76e-ff3d3deaf3d4"
      },
      "execution_count": 7,
      "outputs": [
        {
          "output_type": "execute_result",
          "data": {
            "text/plain": [
              "Item_Identifier                 0\n",
              "Item_Weight                  1463\n",
              "Item_Fat_Content                0\n",
              "Item_Visibility                 0\n",
              "Item_Type                       0\n",
              "Item_MRP                        0\n",
              "Outlet_Identifier               0\n",
              "Outlet_Establishment_Year       0\n",
              "Outlet_Size                  2410\n",
              "Outlet_Location_Type            0\n",
              "Outlet_Type                     0\n",
              "Item_Outlet_Sales               0\n",
              "dtype: int64"
            ]
          },
          "metadata": {},
          "execution_count": 7
        }
      ]
    },
    {
      "cell_type": "markdown",
      "source": [
        "    Item Weight is missing 1463 values\n",
        "    Outlet Size is missing 2410 values"
      ],
      "metadata": {
        "id": "AqM-GfLAHJZo"
      }
    },
    {
      "cell_type": "markdown",
      "source": [
        "    Item Weight (float64): 1463/8523 = 17% of values missing\n",
        "    Outlet Size (object): 2410/8523 = 28% of values missing \n",
        "\n",
        "    Both columns are missing less than half of their data.  \n",
        "    Missing data will be replaced for this instance. \n"
      ],
      "metadata": {
        "id": "x8h1kohXHSEh"
      }
    },
    {
      "cell_type": "code",
      "source": [
        "# Imputation of missing values:\n",
        "\n",
        "# The missing values in Item weight will be replaced with \n",
        "# the column's mean since its data type is float:\n",
        "\n",
        "IW_mean = df['Item_Weight'].mean()\n",
        "df['Item_Weight'].fillna(IW_mean, inplace=True)\n",
        "df['Item_Weight'].value_counts()\n",
        "\n",
        "# Missing Outlet Size data will be replaced with the most common entry:\n",
        "\n",
        "df['Outlet_Size'].fillna(\"Medium\", inplace=True)\n",
        "df['Outlet_Size'].value_counts()\n"
      ],
      "metadata": {
        "id": "I250-5hZRWl-",
        "colab": {
          "base_uri": "https://localhost:8080/"
        },
        "outputId": "6f5be6fc-b6ea-4562-f077-2bff10c29ef7"
      },
      "execution_count": 8,
      "outputs": [
        {
          "output_type": "execute_result",
          "data": {
            "text/plain": [
              "Medium    5203\n",
              "Small     2388\n",
              "High       932\n",
              "Name: Outlet_Size, dtype: int64"
            ]
          },
          "metadata": {},
          "execution_count": 8
        }
      ]
    },
    {
      "cell_type": "code",
      "source": [
        " # Confirmation of imputed values:\n",
        "\n",
        "df.isna().sum()"
      ],
      "metadata": {
        "id": "kG3h-SbsniQU",
        "colab": {
          "base_uri": "https://localhost:8080/"
        },
        "outputId": "9cd8b7a4-77e8-4028-f3b9-1806b32166bc"
      },
      "execution_count": 9,
      "outputs": [
        {
          "output_type": "execute_result",
          "data": {
            "text/plain": [
              "Item_Identifier              0\n",
              "Item_Weight                  0\n",
              "Item_Fat_Content             0\n",
              "Item_Visibility              0\n",
              "Item_Type                    0\n",
              "Item_MRP                     0\n",
              "Outlet_Identifier            0\n",
              "Outlet_Establishment_Year    0\n",
              "Outlet_Size                  0\n",
              "Outlet_Location_Type         0\n",
              "Outlet_Type                  0\n",
              "Item_Outlet_Sales            0\n",
              "dtype: int64"
            ]
          },
          "metadata": {},
          "execution_count": 9
        }
      ]
    },
    {
      "cell_type": "code",
      "source": [
        "# Identification of inconsistent categories of data (example: fix cat, Cat, \n",
        "# and cats so that they are consistent) \n",
        "\n",
        "# Checking all columns with object datatypes:\n",
        "\n",
        "dtypes = df.dtypes\n",
        "str_columns = dtypes[dtypes=='object'].index\n",
        "str_columns\n",
        "\n",
        "for column in str_columns:\n",
        "  print(f\"Column Name = {column}\")\n",
        "  print()\n",
        "  print(df[column].value_counts(dropna=False))\n",
        "  print('\\n\\n')"
      ],
      "metadata": {
        "id": "HibYRszQoBFZ",
        "colab": {
          "base_uri": "https://localhost:8080/"
        },
        "outputId": "27b7333a-2590-4cd6-a235-1131670501a8"
      },
      "execution_count": 10,
      "outputs": [
        {
          "output_type": "stream",
          "name": "stdout",
          "text": [
            "Column Name = Item_Identifier\n",
            "\n",
            "FDW13    10\n",
            "FDG33    10\n",
            "NCY18     9\n",
            "FDD38     9\n",
            "DRE49     9\n",
            "         ..\n",
            "FDY43     1\n",
            "FDQ60     1\n",
            "FDO33     1\n",
            "DRF48     1\n",
            "FDC23     1\n",
            "Name: Item_Identifier, Length: 1559, dtype: int64\n",
            "\n",
            "\n",
            "\n",
            "Column Name = Item_Fat_Content\n",
            "\n",
            "Low Fat    5089\n",
            "Regular    2889\n",
            "LF          316\n",
            "reg         117\n",
            "low fat     112\n",
            "Name: Item_Fat_Content, dtype: int64\n",
            "\n",
            "\n",
            "\n",
            "Column Name = Item_Type\n",
            "\n",
            "Fruits and Vegetables    1232\n",
            "Snack Foods              1200\n",
            "Household                 910\n",
            "Frozen Foods              856\n",
            "Dairy                     682\n",
            "Canned                    649\n",
            "Baking Goods              648\n",
            "Health and Hygiene        520\n",
            "Soft Drinks               445\n",
            "Meat                      425\n",
            "Breads                    251\n",
            "Hard Drinks               214\n",
            "Others                    169\n",
            "Starchy Foods             148\n",
            "Breakfast                 110\n",
            "Seafood                    64\n",
            "Name: Item_Type, dtype: int64\n",
            "\n",
            "\n",
            "\n",
            "Column Name = Outlet_Identifier\n",
            "\n",
            "OUT027    935\n",
            "OUT013    932\n",
            "OUT049    930\n",
            "OUT046    930\n",
            "OUT035    930\n",
            "OUT045    929\n",
            "OUT018    928\n",
            "OUT017    926\n",
            "OUT010    555\n",
            "OUT019    528\n",
            "Name: Outlet_Identifier, dtype: int64\n",
            "\n",
            "\n",
            "\n",
            "Column Name = Outlet_Size\n",
            "\n",
            "Medium    5203\n",
            "Small     2388\n",
            "High       932\n",
            "Name: Outlet_Size, dtype: int64\n",
            "\n",
            "\n",
            "\n",
            "Column Name = Outlet_Location_Type\n",
            "\n",
            "Tier 3    3350\n",
            "Tier 2    2785\n",
            "Tier 1    2388\n",
            "Name: Outlet_Location_Type, dtype: int64\n",
            "\n",
            "\n",
            "\n",
            "Column Name = Outlet_Type\n",
            "\n",
            "Supermarket Type1    5577\n",
            "Grocery Store        1083\n",
            "Supermarket Type3     935\n",
            "Supermarket Type2     928\n",
            "Name: Outlet_Type, dtype: int64\n",
            "\n",
            "\n",
            "\n"
          ]
        }
      ]
    },
    {
      "cell_type": "markdown",
      "source": [
        "The column: Item_Fat_Content contains what I assume are 3 \n",
        "different versions of \"Low Fat\", and two different versions of \"Regular\" \n",
        "as seen below:\n",
        "\n",
        "    Low Fat    5089\n",
        "    Regular    2889\n",
        "    LF          316\n",
        "    reg         117\n",
        "    low fat     112\n"
      ],
      "metadata": {
        "id": "XaOkRhn_HesE"
      }
    },
    {
      "cell_type": "markdown",
      "source": [
        "Value name/type inconsistencies in other columns:\n",
        "\n",
        "    Item_Type = No inconsistencies \n",
        "    Outlet_Identifier = No inconsistencies\n",
        "    Outlet_Size = No inconsistencies\n",
        "    Outlet_Location_Type = No inconsistencies\n",
        "    Outlet_Type = No inconsistencies"
      ],
      "metadata": {
        "id": "g3wAdgQkHvSJ"
      }
    },
    {
      "cell_type": "code",
      "source": [
        "# From the datatype for-loop:\n",
        "\n",
        "# Replacing the inconsistencies in Item_Fat_Content\n",
        "\n",
        "df['Item_Fat_Content'].replace({\"LF\":\"Low Fat\", \"low fat\": \"Low Fat\", \n",
        "                                \"reg\": \"Regular\"}, inplace= True)\n",
        "df[\"Item_Fat_Content\"].value_counts()"
      ],
      "metadata": {
        "id": "tMkCfwfE3fsU",
        "colab": {
          "base_uri": "https://localhost:8080/"
        },
        "outputId": "78f63c25-1dae-42bf-e88d-81052f38eb4e"
      },
      "execution_count": 11,
      "outputs": [
        {
          "output_type": "execute_result",
          "data": {
            "text/plain": [
              "Low Fat    5517\n",
              "Regular    3006\n",
              "Name: Item_Fat_Content, dtype: int64"
            ]
          },
          "metadata": {},
          "execution_count": 11
        }
      ]
    },
    {
      "cell_type": "code",
      "source": [
        "# By defualt,\n",
        "# any column not printed by the for loop above must have a numeric data type\n",
        "\n",
        "# Printing a summary of statistics for all numeric columns\n",
        "\n",
        "df.describe()"
      ],
      "metadata": {
        "id": "5w7nE2W3x6ME",
        "colab": {
          "base_uri": "https://localhost:8080/",
          "height": 300
        },
        "outputId": "80b6c7d7-119a-4492-f7d9-baf6ab91f66d"
      },
      "execution_count": 12,
      "outputs": [
        {
          "output_type": "execute_result",
          "data": {
            "text/plain": [
              "       Item_Weight  Item_Visibility     Item_MRP  Outlet_Establishment_Year  \\\n",
              "count  8523.000000      8523.000000  8523.000000                8523.000000   \n",
              "mean     12.857645         0.066132   140.992782                1997.831867   \n",
              "std       4.226124         0.051598    62.275067                   8.371760   \n",
              "min       4.555000         0.000000    31.290000                1985.000000   \n",
              "25%       9.310000         0.026989    93.826500                1987.000000   \n",
              "50%      12.857645         0.053931   143.012800                1999.000000   \n",
              "75%      16.000000         0.094585   185.643700                2004.000000   \n",
              "max      21.350000         0.328391   266.888400                2009.000000   \n",
              "\n",
              "       Item_Outlet_Sales  \n",
              "count        8523.000000  \n",
              "mean         2181.288914  \n",
              "std          1706.499616  \n",
              "min            33.290000  \n",
              "25%           834.247400  \n",
              "50%          1794.331000  \n",
              "75%          3101.296400  \n",
              "max         13086.964800  "
            ],
            "text/html": [
              "\n",
              "  <div id=\"df-0379e203-edf2-4c0b-aff4-4667635e6f58\">\n",
              "    <div class=\"colab-df-container\">\n",
              "      <div>\n",
              "<style scoped>\n",
              "    .dataframe tbody tr th:only-of-type {\n",
              "        vertical-align: middle;\n",
              "    }\n",
              "\n",
              "    .dataframe tbody tr th {\n",
              "        vertical-align: top;\n",
              "    }\n",
              "\n",
              "    .dataframe thead th {\n",
              "        text-align: right;\n",
              "    }\n",
              "</style>\n",
              "<table border=\"1\" class=\"dataframe\">\n",
              "  <thead>\n",
              "    <tr style=\"text-align: right;\">\n",
              "      <th></th>\n",
              "      <th>Item_Weight</th>\n",
              "      <th>Item_Visibility</th>\n",
              "      <th>Item_MRP</th>\n",
              "      <th>Outlet_Establishment_Year</th>\n",
              "      <th>Item_Outlet_Sales</th>\n",
              "    </tr>\n",
              "  </thead>\n",
              "  <tbody>\n",
              "    <tr>\n",
              "      <th>count</th>\n",
              "      <td>8523.000000</td>\n",
              "      <td>8523.000000</td>\n",
              "      <td>8523.000000</td>\n",
              "      <td>8523.000000</td>\n",
              "      <td>8523.000000</td>\n",
              "    </tr>\n",
              "    <tr>\n",
              "      <th>mean</th>\n",
              "      <td>12.857645</td>\n",
              "      <td>0.066132</td>\n",
              "      <td>140.992782</td>\n",
              "      <td>1997.831867</td>\n",
              "      <td>2181.288914</td>\n",
              "    </tr>\n",
              "    <tr>\n",
              "      <th>std</th>\n",
              "      <td>4.226124</td>\n",
              "      <td>0.051598</td>\n",
              "      <td>62.275067</td>\n",
              "      <td>8.371760</td>\n",
              "      <td>1706.499616</td>\n",
              "    </tr>\n",
              "    <tr>\n",
              "      <th>min</th>\n",
              "      <td>4.555000</td>\n",
              "      <td>0.000000</td>\n",
              "      <td>31.290000</td>\n",
              "      <td>1985.000000</td>\n",
              "      <td>33.290000</td>\n",
              "    </tr>\n",
              "    <tr>\n",
              "      <th>25%</th>\n",
              "      <td>9.310000</td>\n",
              "      <td>0.026989</td>\n",
              "      <td>93.826500</td>\n",
              "      <td>1987.000000</td>\n",
              "      <td>834.247400</td>\n",
              "    </tr>\n",
              "    <tr>\n",
              "      <th>50%</th>\n",
              "      <td>12.857645</td>\n",
              "      <td>0.053931</td>\n",
              "      <td>143.012800</td>\n",
              "      <td>1999.000000</td>\n",
              "      <td>1794.331000</td>\n",
              "    </tr>\n",
              "    <tr>\n",
              "      <th>75%</th>\n",
              "      <td>16.000000</td>\n",
              "      <td>0.094585</td>\n",
              "      <td>185.643700</td>\n",
              "      <td>2004.000000</td>\n",
              "      <td>3101.296400</td>\n",
              "    </tr>\n",
              "    <tr>\n",
              "      <th>max</th>\n",
              "      <td>21.350000</td>\n",
              "      <td>0.328391</td>\n",
              "      <td>266.888400</td>\n",
              "      <td>2009.000000</td>\n",
              "      <td>13086.964800</td>\n",
              "    </tr>\n",
              "  </tbody>\n",
              "</table>\n",
              "</div>\n",
              "      <button class=\"colab-df-convert\" onclick=\"convertToInteractive('df-0379e203-edf2-4c0b-aff4-4667635e6f58')\"\n",
              "              title=\"Convert this dataframe to an interactive table.\"\n",
              "              style=\"display:none;\">\n",
              "        \n",
              "  <svg xmlns=\"http://www.w3.org/2000/svg\" height=\"24px\"viewBox=\"0 0 24 24\"\n",
              "       width=\"24px\">\n",
              "    <path d=\"M0 0h24v24H0V0z\" fill=\"none\"/>\n",
              "    <path d=\"M18.56 5.44l.94 2.06.94-2.06 2.06-.94-2.06-.94-.94-2.06-.94 2.06-2.06.94zm-11 1L8.5 8.5l.94-2.06 2.06-.94-2.06-.94L8.5 2.5l-.94 2.06-2.06.94zm10 10l.94 2.06.94-2.06 2.06-.94-2.06-.94-.94-2.06-.94 2.06-2.06.94z\"/><path d=\"M17.41 7.96l-1.37-1.37c-.4-.4-.92-.59-1.43-.59-.52 0-1.04.2-1.43.59L10.3 9.45l-7.72 7.72c-.78.78-.78 2.05 0 2.83L4 21.41c.39.39.9.59 1.41.59.51 0 1.02-.2 1.41-.59l7.78-7.78 2.81-2.81c.8-.78.8-2.07 0-2.86zM5.41 20L4 18.59l7.72-7.72 1.47 1.35L5.41 20z\"/>\n",
              "  </svg>\n",
              "      </button>\n",
              "      \n",
              "  <style>\n",
              "    .colab-df-container {\n",
              "      display:flex;\n",
              "      flex-wrap:wrap;\n",
              "      gap: 12px;\n",
              "    }\n",
              "\n",
              "    .colab-df-convert {\n",
              "      background-color: #E8F0FE;\n",
              "      border: none;\n",
              "      border-radius: 50%;\n",
              "      cursor: pointer;\n",
              "      display: none;\n",
              "      fill: #1967D2;\n",
              "      height: 32px;\n",
              "      padding: 0 0 0 0;\n",
              "      width: 32px;\n",
              "    }\n",
              "\n",
              "    .colab-df-convert:hover {\n",
              "      background-color: #E2EBFA;\n",
              "      box-shadow: 0px 1px 2px rgba(60, 64, 67, 0.3), 0px 1px 3px 1px rgba(60, 64, 67, 0.15);\n",
              "      fill: #174EA6;\n",
              "    }\n",
              "\n",
              "    [theme=dark] .colab-df-convert {\n",
              "      background-color: #3B4455;\n",
              "      fill: #D2E3FC;\n",
              "    }\n",
              "\n",
              "    [theme=dark] .colab-df-convert:hover {\n",
              "      background-color: #434B5C;\n",
              "      box-shadow: 0px 1px 3px 1px rgba(0, 0, 0, 0.15);\n",
              "      filter: drop-shadow(0px 1px 2px rgba(0, 0, 0, 0.3));\n",
              "      fill: #FFFFFF;\n",
              "    }\n",
              "  </style>\n",
              "\n",
              "      <script>\n",
              "        const buttonEl =\n",
              "          document.querySelector('#df-0379e203-edf2-4c0b-aff4-4667635e6f58 button.colab-df-convert');\n",
              "        buttonEl.style.display =\n",
              "          google.colab.kernel.accessAllowed ? 'block' : 'none';\n",
              "\n",
              "        async function convertToInteractive(key) {\n",
              "          const element = document.querySelector('#df-0379e203-edf2-4c0b-aff4-4667635e6f58');\n",
              "          const dataTable =\n",
              "            await google.colab.kernel.invokeFunction('convertToInteractive',\n",
              "                                                     [key], {});\n",
              "          if (!dataTable) return;\n",
              "\n",
              "          const docLinkHtml = 'Like what you see? Visit the ' +\n",
              "            '<a target=\"_blank\" href=https://colab.research.google.com/notebooks/data_table.ipynb>data table notebook</a>'\n",
              "            + ' to learn more about interactive tables.';\n",
              "          element.innerHTML = '';\n",
              "          dataTable['output_type'] = 'display_data';\n",
              "          await google.colab.output.renderOutput(dataTable, element);\n",
              "          const docLink = document.createElement('div');\n",
              "          docLink.innerHTML = docLinkHtml;\n",
              "          element.appendChild(docLink);\n",
              "        }\n",
              "      </script>\n",
              "    </div>\n",
              "  </div>\n",
              "  "
            ]
          },
          "metadata": {},
          "execution_count": 12
        }
      ]
    },
    {
      "cell_type": "markdown",
      "source": [
        "### With duplicates, inconsistencies, missing values, and anomalies removed the data can now be used for visual analysis."
      ],
      "metadata": {
        "id": "AR4fntBCfbpk"
      }
    },
    {
      "cell_type": "markdown",
      "source": [
        "# VISUAL ANALYSIS"
      ],
      "metadata": {
        "id": "Ve6iFRJldLuz"
      }
    },
    {
      "cell_type": "markdown",
      "source": [
        "Our goal is to help the retailer understand the properties of the products and \n",
        "outlets that play a significant role in increasing sales."
      ],
      "metadata": {
        "id": "q9b3CKX8NXlR"
      }
    },
    {
      "cell_type": "code",
      "source": [
        "groceries = df['Item_Type'].value_counts().sort_values(ascending=True)\n",
        "\n",
        "groceries.plot(kind='barh', alpha = .4, color='blue', figsize= (8,6), );\n",
        "plt.title('Item Type Counts\\n', color= 'blue', fontsize =24)\n",
        "plt.xlabel('\\nCount', fontsize = 16)\n",
        "plt.ylabel('Item Type\\n', fontsize = 16)\n",
        "plt.grid(axis ='x', color ='black', alpha=.5)\n",
        "plt.show()\n",
        "\n"
      ],
      "metadata": {
        "colab": {
          "base_uri": "https://localhost:8080/",
          "height": 463
        },
        "id": "PCw9-mkq8S0u",
        "outputId": "53ec6abc-796f-429b-e4df-fcdd6a1a1f36"
      },
      "execution_count": 13,
      "outputs": [
        {
          "output_type": "display_data",
          "data": {
            "text/plain": [
              "<Figure size 576x432 with 1 Axes>"
            ],
            "image/png": "[encoded data removed]"
          },
          "metadata": {
            "needs_background": "light"
          }
        }
      ]
    },
    {
      "cell_type": "markdown",
      "source": [
        "## Analysis: \n",
        "The Fruits and Vegetables category has the highest count of all item types, \n",
        "followed by snack foods and household items. Seafood has the lowest count \n",
        "followed by Breakfast items. "
      ],
      "metadata": {
        "id": "bYnTqzvoIAMp"
      }
    },
    {
      "cell_type": "code",
      "source": [
        "groceries = df['Outlet_Identifier'].value_counts().sort_values(ascending=True)\n",
        "\n",
        "groceries.plot(kind='barh', alpha = .4, color='#e34a33', figsize= (8,6), );\n",
        "plt.title('Unique Store ID\\n', color= '#e34a33', fontsize =24)\n",
        "plt.xlabel('\\nCount', fontsize = 16)\n",
        "plt.xlim(0,1000, )\n",
        "plt.ylabel('Unique Store ID\\n', fontsize = 15)\n",
        "plt.grid(axis ='x', color ='black', alpha=.5)\n",
        "plt.show()"
      ],
      "metadata": {
        "colab": {
          "base_uri": "https://localhost:8080/",
          "height": 463
        },
        "id": "aT32qKuhkWXA",
        "outputId": "4296e444-2405-4f10-d514-08413daa249c"
      },
      "execution_count": 14,
      "outputs": [
        {
          "output_type": "display_data",
          "data": {
            "text/plain": [
              "<Figure size 576x432 with 1 Axes>"
            ],
            "image/png": "[encoded data removed]"
          },
          "metadata": {
            "needs_background": "light"
          }
        }
      ]
    },
    {
      "cell_type": "markdown",
      "source": [
        "## Analysis:\n",
        "\n",
        "I am not able to tell whether these are IDs associated with specific franchises \n",
        "and the count is the number of stores that belong to the franchises or if they \n",
        "represent independent outlets. Let's assume that they represent independent outlets since we are not albe to confer with a subject matter expert. "
      ],
      "metadata": {
        "id": "ZxCzHnApIFes"
      }
    },
    {
      "cell_type": "code",
      "source": [
        "fig, bp = plt.subplots(nrows=1, ncols =1, figsize= (15,10))\n",
        "bp = sns.barplot(data=df, x= 'Item_Type', y = 'Item_Outlet_Sales');\n",
        "plt.title('Item Type by Store Sales\\n', fontsize =24)\n",
        "plt.ylabel('Item Sales\\n\\n', fontsize=16);\n",
        "plt.xlabel('\\n\\nItem Names', fontsize=16);\n",
        "plt.grid(axis='y')\n",
        "plt.xticks(rotation=45);"
      ],
      "metadata": {
        "colab": {
          "base_uri": "https://localhost:8080/",
          "height": 771
        },
        "id": "hxoJvwzJ9B5e",
        "outputId": "64eb5199-bc92-4557-bf82-1113f9a9c5ac"
      },
      "execution_count": 15,
      "outputs": [
        {
          "output_type": "display_data",
          "data": {
            "text/plain": [
              "<Figure size 1080x720 with 1 Axes>"
            ],
            "image/png": "[encoded data removed]"
          },
          "metadata": {
            "needs_background": "light"
          }
        }
      ]
    },
    {
      "cell_type": "markdown",
      "source": [
        "## Analysis:\n",
        "\n",
        "Despite the significant differences in item counts between categories with the \n",
        "highest counts like Fruits & Vegetables and categories with the lowest counts \n",
        "like Seafood, the sales for each item class appear to be relatively close in \n",
        "volume. An increase in the quantity of Seafood, Breakfast items, and Starchy \n",
        "foods would result in a significant increase in total revenue since each of \n",
        "these three categories have quantities that equate to less than 15% of the item quantities in the two categories with the highest item counts. "
      ],
      "metadata": {
        "id": "uDR7mh4NIMXe"
      }
    },
    {
      "cell_type": "code",
      "source": [
        "# Histogram to view the distributions of various features the dataset. \n",
        "\n",
        "IV = df['Item_Visibility']         \n",
        "IMRP = df['Item_MRP']                   \n",
        "OEY = df['Outlet_Establishment_Year']  \n",
        "IOS = df['Item_Outlet_Sales']\n",
        "\n",
        "fig, axes = plt.subplots(1, 4,figsize=(30,6), sharey=False, dpi=100);\n",
        "plt.suptitle('Histogram Densities for Numerical Columns\\n', fontsize=24)\n",
        "sns.histplot(IV, bins=30, color=\"#756bb1\", ax=axes[0], \n",
        "             legend=True, linestyle='solid', line_kws={'lw': 2, 'color': 'black'});\n",
        "sns.histplot(IMRP, bins=30, color=\"#2c7fb8\", ax=axes[1], \n",
        "             legend=True, linestyle='-', line_kws={'lw': 2, 'color': 'black'});\n",
        "sns.histplot(OEY, bins=30, color=\"#d95f0e\", ax=axes[2], \n",
        "             legend=True, linestyle='-', line_kws={'lw': 2, 'color': 'black'});\n",
        "sns.histplot(IOS, bins=30, color=\"#fec44f\", ax=axes[3], \n",
        "             legend=True, linestyle='-', line_kws={'lw': 2, 'color': 'black'});"
      ],
      "metadata": {
        "id": "P3-lPF7a2-rB",
        "colab": {
          "base_uri": "https://localhost:8080/",
          "height": 322
        },
        "outputId": "8e3be144-5cd3-4ac6-f7f2-cf5da52572de"
      },
      "execution_count": 16,
      "outputs": [
        {
          "output_type": "display_data",
          "data": {
            "text/plain": [
              "<Figure size 3000x600 with 4 Axes>"
            ],
            "image/png": "[encoded data removed]"
          },
          "metadata": {
            "needs_background": "light"
          }
        }
      ]
    },
    {
      "cell_type": "markdown",
      "source": [
        "## Analysis \n",
        "\n",
        "Item Visibility: Item Visibility counts are highest with scores close to zero \n",
        "and linearly decline as the scores increase.\n",
        "\n",
        "Item MRP: Maximum Retail Price has a pseudo symmetrical \n",
        "distribution that appears to be mirrored about the axis x = 140 axis. \n",
        "The majority of items are clustered in the MRP range \n",
        "spanning 100.00 to 200.00 dollars. \n",
        "\n",
        "Outlet Establishment Year: Store establishment was high in the late 80s with \n",
        "the creation of roughly 2400 new stores from 1985 to 1988. Store establishment \n",
        "was non-existent from the early to mid-90s however, before tapering off at 800 \n",
        "or so stores every few years from the late 90s to early 2000s. \n",
        "With the exception of ~1987 – 1997 stores establishment appears to be \n",
        "consistent every few years. The absence of store production in the early 90s \n",
        "may be the product of fiscal policy, market competition, market consolidation, \n",
        "and/or several other factors. \n",
        "\n",
        "Item Outlet Sales: The majority of sales of a particular product in various \n",
        "stores range from a few dollars to roughly 13000.00 dollars. Most of the sales \n",
        "occur around 2000.00 dollars."
      ],
      "metadata": {
        "id": "iOPh_CZ_IUAj"
      }
    },
    {
      "cell_type": "code",
      "source": [
        "# Boxplot to view statistical summaries of various features the dataset.\n",
        "\n",
        "fig, axes = plt.subplots(nrows=1, ncols =2, figsize= (18,10))\n",
        "plt.suptitle('Outlet Size & Location vs Item Outlet Sales', fontsize=24)\n",
        "axes[0].grid()\n",
        "axes[1].grid()\n",
        "plt.rcParams[\"axes.labelsize\"] = 16\n",
        "sns.boxplot(data= df, x='Outlet_Size', y='Item_Outlet_Sales', ax=axes[0], \n",
        "            palette='flare', \n",
        "            fliersize=4, notch=True,\n",
        "            width =.5).set(xlabel = '\\nOutlet Size', ylabel='\\nItem Outlet Sales\\n');\n",
        "sns.boxplot(data= df, x='Outlet_Location_Type', y='Item_Outlet_Sales', \n",
        "            ax=axes[1], palette=\"light:#5A9\", \n",
        "            fliersize=4, notch=True, width =.5).set(xlabel = '\\nOutlet Location Type', \n",
        "                                                    ylabel='\\n\\nItem Outlet Sales\\n')"
      ],
      "metadata": {
        "id": "Dqx3At41sQAN",
        "colab": {
          "base_uri": "https://localhost:8080/",
          "height": 724
        },
        "outputId": "7d4159d7-4955-4a6a-97df-d45e2257df34"
      },
      "execution_count": 17,
      "outputs": [
        {
          "output_type": "execute_result",
          "data": {
            "text/plain": [
              "[Text(0, 0.5, '\\n\\nItem Outlet Sales\\n'),\n",
              " Text(0.5, 0, '\\nOutlet Location Type')]"
            ]
          },
          "metadata": {},
          "execution_count": 17
        },
        {
          "output_type": "display_data",
          "data": {
            "text/plain": [
              "<Figure size 1296x720 with 2 Axes>"
            ],
            "image/png": "[encoded data removed]"
          },
          "metadata": {
            "needs_background": "light"
          }
        }
      ]
    },
    {
      "cell_type": "markdown",
      "source": [
        "## Analysis:\n",
        "\n",
        "Graph 1: \n",
        "\n",
        "Medium store sizes buy the most items and have a highest 75th percentile or Q3, \n",
        "and highest maximum. High outlets have the highest average or mean buys and a \n",
        "slightly higher upper quartile over the Small outlets, although their maximums \n",
        "appear to be equivalent at 6000.00. \n",
        "\n",
        "Smaller outlets have the second highest number of outliers beyond their maximum purchases. \n",
        "\n",
        "Medium Stores have the highest number of purchases and the largest purchase \n",
        "values as seen by their outliers. \n",
        "\n",
        "The outliers for all three store sizes start just above their respective \n",
        "maximums which surpass 6000.00. Sales with values in excess of 8000.00 are \n",
        "rare, especially with the High and Small outlet stores. \n",
        "\n",
        "Graph 2:\n",
        "\n",
        "Tier 3 location outlets have the largest number of purchases and the highest \n",
        "purchase orders. \n",
        "Tier 2 outlets have the highest average sales at 2000.00. Tier 1 outlets have \n",
        "a higher 75th percentile than Tier 2 stores. \n",
        "\n",
        "Outliers or sales above the maximum sale value for all three store Tiers begin \n",
        "above 6000.00 as it was with the previous graph. In comparing the two graphs \n",
        "it appears that there is a relationship between the Medium sized outlets and \n",
        "the Tier 3  location outlets; perhaps medium stores are mostly located in Tier \n",
        "3 locations – both store types have the highest outliers on their respective graphs. "
      ],
      "metadata": {
        "id": "_Z7tf6EDIgpE"
      }
    },
    {
      "cell_type": "code",
      "source": [
        "fig, bp = plt.subplots(nrows =1, ncols =1, figsize = (8,8))\n",
        "\n",
        "bp.boxplot([df['Item_Outlet_Sales'], ], notch = True, labels=[' '],\n",
        "                        widths= .3, \n",
        "                        patch_artist=True, \n",
        "                        medianprops=dict(linestyle='-', linewidth =2, color='gold'), \n",
        "                        boxprops=dict(linestyle='--', color='Black', facecolor='seagreen', alpha=.4));\n",
        "bp.set_title('Item Outlet Sales\\n', fontsize = 20);\n",
        "plt.xlabel('Item Outlet Sales', fontsize=16)\n",
        "plt.ylabel('Value of Sales in Dollars', fontsize = 16);\n",
        "plt.xticks(fontsize=12);\n",
        "plt.yticks(fontsize=12);\n",
        "plt.grid(axis='y',c = '#756bb1', alpha = .5) "
      ],
      "metadata": {
        "id": "2IYh5oM82hOw",
        "colab": {
          "base_uri": "https://localhost:8080/",
          "height": 548
        },
        "outputId": "b026e62c-c120-4814-b1bd-b27416f23f64"
      },
      "execution_count": 18,
      "outputs": [
        {
          "output_type": "display_data",
          "data": {
            "text/plain": [
              "<Figure size 576x576 with 1 Axes>"
            ],
            "image/png": "[encoded data removed]"
          },
          "metadata": {
            "needs_background": "light"
          }
        }
      ]
    },
    {
      "cell_type": "markdown",
      "source": [
        "## Analysis:\n",
        "\n",
        "Mean outlet sales are estimated to be jsut below $2000.00 with a 95% confidence \n",
        "interval.The majority of sales are within the range of  $1000.00-$3000.00 with max sales above $6000.00 and several outliers that span 6200.00 to 13,000.00 dollars."
      ],
      "metadata": {
        "id": "CMWwQJWGIyBG"
      }
    },
    {
      "cell_type": "code",
      "source": [
        "# Heatmap of the correlation between features.\n",
        "correlation = df.corr()\n",
        "correlation"
      ],
      "metadata": {
        "id": "J3T8U4d7vMbX",
        "colab": {
          "base_uri": "https://localhost:8080/",
          "height": 206
        },
        "outputId": "52d43dee-aca1-40c8-c35d-de5d01f857c1"
      },
      "execution_count": 19,
      "outputs": [
        {
          "output_type": "execute_result",
          "data": {
            "text/plain": [
              "                           Item_Weight  Item_Visibility  Item_MRP  \\\n",
              "Item_Weight                   1.000000        -0.012049  0.024756   \n",
              "Item_Visibility              -0.012049         1.000000 -0.001315   \n",
              "Item_MRP                      0.024756        -0.001315  1.000000   \n",
              "Outlet_Establishment_Year    -0.008301        -0.074834  0.005020   \n",
              "Item_Outlet_Sales             0.011550        -0.128625  0.567574   \n",
              "\n",
              "                           Outlet_Establishment_Year  Item_Outlet_Sales  \n",
              "Item_Weight                                -0.008301           0.011550  \n",
              "Item_Visibility                            -0.074834          -0.128625  \n",
              "Item_MRP                                    0.005020           0.567574  \n",
              "Outlet_Establishment_Year                   1.000000          -0.049135  \n",
              "Item_Outlet_Sales                          -0.049135           1.000000  "
            ],
            "text/html": [
              "\n",
              "  <div id=\"df-9783c020-8c07-46bf-bbdd-8234f479f409\">\n",
              "    <div class=\"colab-df-container\">\n",
              "      <div>\n",
              "<style scoped>\n",
              "    .dataframe tbody tr th:only-of-type {\n",
              "        vertical-align: middle;\n",
              "    }\n",
              "\n",
              "    .dataframe tbody tr th {\n",
              "        vertical-align: top;\n",
              "    }\n",
              "\n",
              "    .dataframe thead th {\n",
              "        text-align: right;\n",
              "    }\n",
              "</style>\n",
              "<table border=\"1\" class=\"dataframe\">\n",
              "  <thead>\n",
              "    <tr style=\"text-align: right;\">\n",
              "      <th></th>\n",
              "      <th>Item_Weight</th>\n",
              "      <th>Item_Visibility</th>\n",
              "      <th>Item_MRP</th>\n",
              "      <th>Outlet_Establishment_Year</th>\n",
              "      <th>Item_Outlet_Sales</th>\n",
              "    </tr>\n",
              "  </thead>\n",
              "  <tbody>\n",
              "    <tr>\n",
              "      <th>Item_Weight</th>\n",
              "      <td>1.000000</td>\n",
              "      <td>-0.012049</td>\n",
              "      <td>0.024756</td>\n",
              "      <td>-0.008301</td>\n",
              "      <td>0.011550</td>\n",
              "    </tr>\n",
              "    <tr>\n",
              "      <th>Item_Visibility</th>\n",
              "      <td>-0.012049</td>\n",
              "      <td>1.000000</td>\n",
              "      <td>-0.001315</td>\n",
              "      <td>-0.074834</td>\n",
              "      <td>-0.128625</td>\n",
              "    </tr>\n",
              "    <tr>\n",
              "      <th>Item_MRP</th>\n",
              "      <td>0.024756</td>\n",
              "      <td>-0.001315</td>\n",
              "      <td>1.000000</td>\n",
              "      <td>0.005020</td>\n",
              "      <td>0.567574</td>\n",
              "    </tr>\n",
              "    <tr>\n",
              "      <th>Outlet_Establishment_Year</th>\n",
              "      <td>-0.008301</td>\n",
              "      <td>-0.074834</td>\n",
              "      <td>0.005020</td>\n",
              "      <td>1.000000</td>\n",
              "      <td>-0.049135</td>\n",
              "    </tr>\n",
              "    <tr>\n",
              "      <th>Item_Outlet_Sales</th>\n",
              "      <td>0.011550</td>\n",
              "      <td>-0.128625</td>\n",
              "      <td>0.567574</td>\n",
              "      <td>-0.049135</td>\n",
              "      <td>1.000000</td>\n",
              "    </tr>\n",
              "  </tbody>\n",
              "</table>\n",
              "</div>\n",
              "      <button class=\"colab-df-convert\" onclick=\"convertToInteractive('df-9783c020-8c07-46bf-bbdd-8234f479f409')\"\n",
              "              title=\"Convert this dataframe to an interactive table.\"\n",
              "              style=\"display:none;\">\n",
              "        \n",
              "  <svg xmlns=\"http://www.w3.org/2000/svg\" height=\"24px\"viewBox=\"0 0 24 24\"\n",
              "       width=\"24px\">\n",
              "    <path d=\"M0 0h24v24H0V0z\" fill=\"none\"/>\n",
              "    <path d=\"M18.56 5.44l.94 2.06.94-2.06 2.06-.94-2.06-.94-.94-2.06-.94 2.06-2.06.94zm-11 1L8.5 8.5l.94-2.06 2.06-.94-2.06-.94L8.5 2.5l-.94 2.06-2.06.94zm10 10l.94 2.06.94-2.06 2.06-.94-2.06-.94-.94-2.06-.94 2.06-2.06.94z\"/><path d=\"M17.41 7.96l-1.37-1.37c-.4-.4-.92-.59-1.43-.59-.52 0-1.04.2-1.43.59L10.3 9.45l-7.72 7.72c-.78.78-.78 2.05 0 2.83L4 21.41c.39.39.9.59 1.41.59.51 0 1.02-.2 1.41-.59l7.78-7.78 2.81-2.81c.8-.78.8-2.07 0-2.86zM5.41 20L4 18.59l7.72-7.72 1.47 1.35L5.41 20z\"/>\n",
              "  </svg>\n",
              "      </button>\n",
              "      \n",
              "  <style>\n",
              "    .colab-df-container {\n",
              "      display:flex;\n",
              "      flex-wrap:wrap;\n",
              "      gap: 12px;\n",
              "    }\n",
              "\n",
              "    .colab-df-convert {\n",
              "      background-color: #E8F0FE;\n",
              "      border: none;\n",
              "      border-radius: 50%;\n",
              "      cursor: pointer;\n",
              "      display: none;\n",
              "      fill: #1967D2;\n",
              "      height: 32px;\n",
              "      padding: 0 0 0 0;\n",
              "      width: 32px;\n",
              "    }\n",
              "\n",
              "    .colab-df-convert:hover {\n",
              "      background-color: #E2EBFA;\n",
              "      box-shadow: 0px 1px 2px rgba(60, 64, 67, 0.3), 0px 1px 3px 1px rgba(60, 64, 67, 0.15);\n",
              "      fill: #174EA6;\n",
              "    }\n",
              "\n",
              "    [theme=dark] .colab-df-convert {\n",
              "      background-color: #3B4455;\n",
              "      fill: #D2E3FC;\n",
              "    }\n",
              "\n",
              "    [theme=dark] .colab-df-convert:hover {\n",
              "      background-color: #434B5C;\n",
              "      box-shadow: 0px 1px 3px 1px rgba(0, 0, 0, 0.15);\n",
              "      filter: drop-shadow(0px 1px 2px rgba(0, 0, 0, 0.3));\n",
              "      fill: #FFFFFF;\n",
              "    }\n",
              "  </style>\n",
              "\n",
              "      <script>\n",
              "        const buttonEl =\n",
              "          document.querySelector('#df-9783c020-8c07-46bf-bbdd-8234f479f409 button.colab-df-convert');\n",
              "        buttonEl.style.display =\n",
              "          google.colab.kernel.accessAllowed ? 'block' : 'none';\n",
              "\n",
              "        async function convertToInteractive(key) {\n",
              "          const element = document.querySelector('#df-9783c020-8c07-46bf-bbdd-8234f479f409');\n",
              "          const dataTable =\n",
              "            await google.colab.kernel.invokeFunction('convertToInteractive',\n",
              "                                                     [key], {});\n",
              "          if (!dataTable) return;\n",
              "\n",
              "          const docLinkHtml = 'Like what you see? Visit the ' +\n",
              "            '<a target=\"_blank\" href=https://colab.research.google.com/notebooks/data_table.ipynb>data table notebook</a>'\n",
              "            + ' to learn more about interactive tables.';\n",
              "          element.innerHTML = '';\n",
              "          dataTable['output_type'] = 'display_data';\n",
              "          await google.colab.output.renderOutput(dataTable, element);\n",
              "          const docLink = document.createElement('div');\n",
              "          docLink.innerHTML = docLinkHtml;\n",
              "          element.appendChild(docLink);\n",
              "        }\n",
              "      </script>\n",
              "    </div>\n",
              "  </div>\n",
              "  "
            ]
          },
          "metadata": {},
          "execution_count": 19
        }
      ]
    },
    {
      "cell_type": "code",
      "source": [
        "fig, hm = plt.subplots(nrows=1, ncols =1, figsize=(10,8));\n",
        "hm = sns.heatmap(correlation, cmap='rocket_r', annot=True);\n",
        "hm.set_title('Correlation Heatmap\\n', fontsize= 24);"
      ],
      "metadata": {
        "id": "i5uUkfEuzDFc",
        "colab": {
          "base_uri": "https://localhost:8080/",
          "height": 659
        },
        "outputId": "94193d15-3cf3-45ac-a199-a0608364271c"
      },
      "execution_count": 20,
      "outputs": [
        {
          "output_type": "display_data",
          "data": {
            "text/plain": [
              "<Figure size 720x576 with 2 Axes>"
            ],
            "image/png": "[encoded data removed]"
          },
          "metadata": {
            "needs_background": "light"
          }
        }
      ]
    },
    {
      "cell_type": "markdown",
      "source": [
        "## Analysis: Max Retail Price and Item Outlet Sales have the highest positive \n",
        "correlation at 0.57 and Item Visibility and Item Outlet Sales have the strongest negative correlation at -0.13. These correlation values are considered to be high relative to other relationships ammongst the features; all of the correlation values are below 0.60 which is not considered to be strong by industry standards.\n",
        "The elements or columns in this dataset do not appear to have significant correlations."
      ],
      "metadata": {
        "id": "Vzuz9L-KJbeZ"
      }
    },
    {
      "cell_type": "code",
      "source": [
        "fig, bar = plt.subplots(nrows=1, ncols =1, figsize=(10,10));\n",
        "bar = sns.barplot(data=df, x = df[\"Outlet_Establishment_Year\"], y = df['Item_Outlet_Sales'], hue= df['Outlet_Type']);\n",
        "bar.set_title('Sales by Outlet Type (1985-2009)\\n', fontsize =24);\n",
        "plt.xlabel('\\nOutlet Type by Outlet Establishment Year', fontsize= 16);\n",
        "plt.ylabel('Item Oulet Sales by Outlet Type\\n', fontsize=16);\n",
        "plt.grid(c ='green', alpha=.4, linestyle='-') "
      ],
      "metadata": {
        "id": "7WCrcjm1aJTb",
        "colab": {
          "base_uri": "https://localhost:8080/",
          "height": 681
        },
        "outputId": "3e9c88bf-07a8-4b0e-ffa5-18ebbf24b4aa"
      },
      "execution_count": 21,
      "outputs": [
        {
          "output_type": "display_data",
          "data": {
            "text/plain": [
              "<Figure size 720x720 with 1 Axes>"
            ],
            "image/png": "[encoded data removed]"
          },
          "metadata": {
            "needs_background": "light"
          }
        }
      ]
    },
    {
      "cell_type": "markdown",
      "source": [
        "## Analysis:\n",
        "\n",
        "It appears that sales were no longer made to Supermarket Type 3 after 1986-1987: These types of stores may have gone out of business, or they are no longer clients. Supermarket Type 2 stores were established in 2008 and /or they have become new clients in that year. Sales to Grocery Stores were conducted in 1986 and 1999 only. Supermarket Type 1 has been the most consistent buyer throughout the decades."
      ],
      "metadata": {
        "id": "OsHrp7iRJjHW"
      }
    },
    {
      "cell_type": "code",
      "source": [
        "IW_mean = df[\"Item_Weight\"].mean()\n",
        "IW_median = df[\"Item_Weight\"].median()\n",
        "\n",
        "ax = df['Item_Weight'].hist(bins=40, color=[\"#c994c7\"], edgecolor=\"black\", figsize=[10,10], );\n",
        "ax.axvline(IW_mean, color='#756bb1', ls='solid', lw=6, label= f\"Average Weight = {round(IW_mean, 2)}\")\n",
        "ax.axvline(IW_median, color=\"red\", ls='--', lw= 2, label= f\"Median Weight ={IW_median:,.2f}\");\n",
        "ax.legend();\n",
        "plt.xlabel(\"\\nItem Weight\", fontsize=16);\n",
        "plt.ylabel(\"Qauntities\\n\", fontsize=16);\n",
        "\n",
        "plt.title(\"Item Weight Distribution\\n\", fontsize = 24);\n",
        "plt.show()"
      ],
      "metadata": {
        "id": "JQ5NKdncrXB8",
        "colab": {
          "base_uri": "https://localhost:8080/",
          "height": 681
        },
        "outputId": "cf5cbb19-4cc6-46b4-9212-ac1473c6fcfe"
      },
      "execution_count": 22,
      "outputs": [
        {
          "output_type": "display_data",
          "data": {
            "text/plain": [
              "<Figure size 720x720 with 1 Axes>"
            ],
            "image/png": "[encoded data removed]"
          },
          "metadata": {
            "needs_background": "light"
          }
        }
      ]
    },
    {
      "cell_type": "markdown",
      "source": [
        "## Analysis: \n",
        "\n",
        "We can see from the histogram that the quantity of items at most of the given weights is close to 200 with the exception of the items that weigh 12.8 pound items. The average and median weights are equivalent at 12.86 pounds,and they have a sinificantly higher quantity count than the other items. "
      ],
      "metadata": {
        "id": "FNLZ9uHyJqJz"
      }
    },
    {
      "cell_type": "code",
      "source": [
        "from IPython.core.pylabtools import figsize\n",
        "fig, axes = plt.subplots(nrows=1, ncols =1, figsize=(10,10));\n",
        "axes.scatter(df['Item_MRP'],df['Item_Outlet_Sales'], c='#2c7fb8',lw=1, label='Actual')\n",
        "axes.plot(df['Item_MRP'],df['Item_Outlet_Sales'], c='#bcbddc',lw=1, alpha=.1, label='Predicted');\n",
        "plt.title(\"MRP vs Outlet Sales\\n\", fontsize=24);\n",
        "\n",
        "plt.legend(loc=\"upper left\")\n",
        "plt.xlabel('\\nItem MRP', fontsize=16);\n",
        "plt.ylabel('Item Outlet Sales\\n', fontsize=16);\n",
        "plt.xticks(fontsize=16);\n",
        "plt.yticks(fontsize=16);"
      ],
      "metadata": {
        "id": "TMfs48ceZSE0",
        "colab": {
          "base_uri": "https://localhost:8080/",
          "height": 686
        },
        "outputId": "1157cf39-7023-499d-af32-039b1985f3c0"
      },
      "execution_count": 23,
      "outputs": [
        {
          "output_type": "display_data",
          "data": {
            "text/plain": [
              "<Figure size 720x720 with 1 Axes>"
            ],
            "image/png": "[encoded data removed]"
          },
          "metadata": {
            "needs_background": "light"
          }
        }
      ]
    },
    {
      "cell_type": "code",
      "source": [
        "df['Item_Outlet_Sales'].mean()"
      ],
      "metadata": {
        "colab": {
          "base_uri": "https://localhost:8080/"
        },
        "id": "nhchkEl_5xbg",
        "outputId": "f89b8505-7c93-46df-f78b-308b61558516"
      },
      "execution_count": 24,
      "outputs": [
        {
          "output_type": "execute_result",
          "data": {
            "text/plain": [
              "2181.288913575032"
            ]
          },
          "metadata": {},
          "execution_count": 24
        }
      ]
    },
    {
      "cell_type": "markdown",
      "source": [
        "#MACHINE LEARNING DATA PREPARATION "
      ],
      "metadata": {
        "id": "Fy0xIRtvr9sk"
      }
    },
    {
      "cell_type": "code",
      "source": [
        "from sklearn.model_selection import train_test_split\n",
        "from sklearn.compose import make_column_selector, make_column_transformer\n",
        "from sklearn.preprocessing import StandardScaler, OneHotEncoder, OrdinalEncoder\n",
        "from sklearn.impute import SimpleImputer\n",
        "from sklearn.pipeline import make_pipeline\n",
        "from sklearn import set_config\n",
        "set_config(display='diagram')\n",
        "\n",
        "# The immmutable copy of the orginal dataframe from code block 7 above will be \n",
        "# used for Machine Learning\n",
        "\n",
        "df_ML.shape\n",
        "\n",
        "# it has the same shape as the original set. "
      ],
      "metadata": {
        "colab": {
          "base_uri": "https://localhost:8080/"
        },
        "id": "e-Ot2D-176EE",
        "outputId": "65a1e0b9-a715-46c1-ea47-7c37629ea66c"
      },
      "execution_count": 25,
      "outputs": [
        {
          "output_type": "execute_result",
          "data": {
            "text/plain": [
              "(8523, 12)"
            ]
          },
          "metadata": {},
          "execution_count": 25
        }
      ]
    },
    {
      "cell_type": "code",
      "source": [
        "df_ML.isna().sum()\n",
        "print('\\n\\n')\n",
        "\n",
        "df_ML.dtypes"
      ],
      "metadata": {
        "colab": {
          "base_uri": "https://localhost:8080/"
        },
        "id": "e8LoVGTBAgJA",
        "outputId": "d5218136-ae28-4ca4-fb25-01be40379e71"
      },
      "execution_count": 26,
      "outputs": [
        {
          "output_type": "stream",
          "name": "stdout",
          "text": [
            "\n",
            "\n",
            "\n"
          ]
        },
        {
          "output_type": "execute_result",
          "data": {
            "text/plain": [
              "Item_Identifier               object\n",
              "Item_Weight                  float64\n",
              "Item_Fat_Content              object\n",
              "Item_Visibility              float64\n",
              "Item_Type                     object\n",
              "Item_MRP                     float64\n",
              "Outlet_Identifier             object\n",
              "Outlet_Establishment_Year      int64\n",
              "Outlet_Size                   object\n",
              "Outlet_Location_Type          object\n",
              "Outlet_Type                   object\n",
              "Item_Outlet_Sales            float64\n",
              "dtype: object"
            ]
          },
          "metadata": {},
          "execution_count": 26
        }
      ]
    },
    {
      "cell_type": "code",
      "source": [
        "# Removing insignificant columns from the data frame\n",
        "\n",
        "remove = ['Item_Identifier','Outlet_Identifier','Outlet_Establishment_Year']\n",
        "\n",
        "df_ML.drop(columns=remove, inplace=True)"
      ],
      "metadata": {
        "id": "V5LxdgWeyaOp"
      },
      "execution_count": 27,
      "outputs": []
    },
    {
      "cell_type": "code",
      "source": [
        "df_ML.info()"
      ],
      "metadata": {
        "colab": {
          "base_uri": "https://localhost:8080/"
        },
        "id": "49in-Gwp1mCL",
        "outputId": "cd812734-3c83-449a-b3e2-c6ea338f8c9e"
      },
      "execution_count": 28,
      "outputs": [
        {
          "output_type": "stream",
          "name": "stdout",
          "text": [
            "<class 'pandas.core.frame.DataFrame'>\n",
            "RangeIndex: 8523 entries, 0 to 8522\n",
            "Data columns (total 9 columns):\n",
            " #   Column                Non-Null Count  Dtype  \n",
            "---  ------                --------------  -----  \n",
            " 0   Item_Weight           7060 non-null   float64\n",
            " 1   Item_Fat_Content      8523 non-null   object \n",
            " 2   Item_Visibility       8523 non-null   float64\n",
            " 3   Item_Type             8523 non-null   object \n",
            " 4   Item_MRP              8523 non-null   float64\n",
            " 5   Outlet_Size           6113 non-null   object \n",
            " 6   Outlet_Location_Type  8523 non-null   object \n",
            " 7   Outlet_Type           8523 non-null   object \n",
            " 8   Item_Outlet_Sales     8523 non-null   float64\n",
            "dtypes: float64(4), object(5)\n",
            "memory usage: 599.4+ KB\n"
          ]
        }
      ]
    },
    {
      "cell_type": "code",
      "source": [
        "df_ML['Item_Fat_Content'].replace({'reg': 'Regular', 'LF': 'Low Fat', \n",
        "                                   'low fat': 'Low Fat'}, inplace=True)"
      ],
      "metadata": {
        "id": "-Kixmb9nkRte"
      },
      "execution_count": 29,
      "outputs": []
    },
    {
      "cell_type": "code",
      "source": [
        "# Identifying the target (y) and features (X): \n",
        "# \"Item_Outlet_Sales\" is the target of our model\n",
        "# The rest of the relevant variables will serve as the features matrix.  \n",
        "\n",
        "y= df_ML['Item_Outlet_Sales']\n",
        "X= df_ML.drop(columns=['Item_Outlet_Sales'])\n",
        "\n",
        "X_train, X_test, y_train, y_test = train_test_split(X,y, random_state=42)"
      ],
      "metadata": {
        "id": "AtqmYgKkBD0M"
      },
      "execution_count": 61,
      "outputs": []
    },
    {
      "cell_type": "code",
      "source": [
        "# Datatype Selectors \n",
        "\n",
        "cat_selector = make_column_selector(dtype_include='object')\n",
        "num_selector = make_column_selector(dtype_include='number')\n",
        "\n",
        "cat_selector(X_train)\n",
        "\n",
        " # Column Name\t\t\t      Feature Type\n",
        " # Item Fat Content\t\t    ordinal\n",
        " # Item Type\t\t\t        nominal\n",
        " # Outlet Size\t\t\t      nominal\n",
        " # Outlet Location Type\t  nominal\t\n",
        " # Outlet Type\t\t\t      nominal"
      ],
      "metadata": {
        "colab": {
          "base_uri": "https://localhost:8080/"
        },
        "id": "igxsygnBagX1",
        "outputId": "80850a87-939a-4b9a-ac16-f9ece3428bf7"
      },
      "execution_count": 31,
      "outputs": [
        {
          "output_type": "execute_result",
          "data": {
            "text/plain": [
              "['Item_Fat_Content',\n",
              " 'Item_Type',\n",
              " 'Outlet_Size',\n",
              " 'Outlet_Location_Type',\n",
              " 'Outlet_Type']"
            ]
          },
          "metadata": {},
          "execution_count": 31
        }
      ]
    },
    {
      "cell_type": "code",
      "source": [
        "# Ordinal Encoder\n",
        "\n",
        "fat_content_label = ['Regular', 'Low Fat']\n",
        "outlet_size_label = ['Small', 'Medium', 'High']\n",
        "\n",
        "ordered_labels = (fat_content_label, outlet_size_label)\n",
        "\n",
        "ordered_labels\n",
        "\n",
        "# Ordinal Enconder\n",
        "\n",
        "Ordinal_Encoder = OrdinalEncoder(categories=ordered_labels)\n",
        "Ordinal_Encoder"
      ],
      "metadata": {
        "id": "Dy4Gsf-yi9Us",
        "colab": {
          "base_uri": "https://localhost:8080/",
          "height": 75
        },
        "outputId": "75393a5e-3ae8-4ef2-edb5-ded903d18a3e"
      },
      "execution_count": 32,
      "outputs": [
        {
          "output_type": "execute_result",
          "data": {
            "text/plain": [
              "OrdinalEncoder(categories=(['Regular', 'Low Fat'], ['Small', 'Medium', 'High']))"
            ],
            "text/html": [
              "<style>#sk-2af31ced-6f38-4abd-a3d0-7aeeef36d5ac {color: black;background-color: white;}#sk-2af31ced-6f38-4abd-a3d0-7aeeef36d5ac pre{padding: 0;}#sk-2af31ced-6f38-4abd-a3d0-7aeeef36d5ac div.sk-toggleable {background-color: white;}#sk-2af31ced-6f38-4abd-a3d0-7aeeef36d5ac label.sk-toggleable__label {cursor: pointer;display: block;width: 100%;margin-bottom: 0;padding: 0.3em;box-sizing: border-box;text-align: center;}#sk-2af31ced-6f38-4abd-a3d0-7aeeef36d5ac label.sk-toggleable__label-arrow:before {content: \"▸\";float: left;margin-right: 0.25em;color: #696969;}#sk-2af31ced-6f38-4abd-a3d0-7aeeef36d5ac label.sk-toggleable__label-arrow:hover:before {color: black;}#sk-2af31ced-6f38-4abd-a3d0-7aeeef36d5ac div.sk-estimator:hover label.sk-toggleable__label-arrow:before {color: black;}#sk-2af31ced-6f38-4abd-a3d0-7aeeef36d5ac div.sk-toggleable__content {max-height: 0;max-width: 0;overflow: hidden;text-align: left;background-color: #f0f8ff;}#sk-2af31ced-6f38-4abd-a3d0-7aeeef36d5ac div.sk-toggleable__content pre {margin: 0.2em;color: black;border-radius: 0.25em;background-color: #f0f8ff;}#sk-2af31ced-6f38-4abd-a3d0-7aeeef36d5ac input.sk-toggleable__control:checked~div.sk-toggleable__content {max-height: 200px;max-width: 100%;overflow: auto;}#sk-2af31ced-6f38-4abd-a3d0-7aeeef36d5ac input.sk-toggleable__control:checked~label.sk-toggleable__label-arrow:before {content: \"▾\";}#sk-2af31ced-6f38-4abd-a3d0-7aeeef36d5ac div.sk-estimator input.sk-toggleable__control:checked~label.sk-toggleable__label {background-color: #d4ebff;}#sk-2af31ced-6f38-4abd-a3d0-7aeeef36d5ac div.sk-label input.sk-toggleable__control:checked~label.sk-toggleable__label {background-color: #d4ebff;}#sk-2af31ced-6f38-4abd-a3d0-7aeeef36d5ac input.sk-hidden--visually {border: 0;clip: rect(1px 1px 1px 1px);clip: rect(1px, 1px, 1px, 1px);height: 1px;margin: -1px;overflow: hidden;padding: 0;position: absolute;width: 1px;}#sk-2af31ced-6f38-4abd-a3d0-7aeeef36d5ac div.sk-estimator {font-family: monospace;background-color: #f0f8ff;border: 1px dotted black;border-radius: 0.25em;box-sizing: border-box;margin-bottom: 0.5em;}#sk-2af31ced-6f38-4abd-a3d0-7aeeef36d5ac div.sk-estimator:hover {background-color: #d4ebff;}#sk-2af31ced-6f38-4abd-a3d0-7aeeef36d5ac div.sk-parallel-item::after {content: \"\";width: 100%;border-bottom: 1px solid gray;flex-grow: 1;}#sk-2af31ced-6f38-4abd-a3d0-7aeeef36d5ac div.sk-label:hover label.sk-toggleable__label {background-color: #d4ebff;}#sk-2af31ced-6f38-4abd-a3d0-7aeeef36d5ac div.sk-serial::before {content: \"\";position: absolute;border-left: 1px solid gray;box-sizing: border-box;top: 2em;bottom: 0;left: 50%;}#sk-2af31ced-6f38-4abd-a3d0-7aeeef36d5ac div.sk-serial {display: flex;flex-direction: column;align-items: center;background-color: white;padding-right: 0.2em;padding-left: 0.2em;}#sk-2af31ced-6f38-4abd-a3d0-7aeeef36d5ac div.sk-item {z-index: 1;}#sk-2af31ced-6f38-4abd-a3d0-7aeeef36d5ac div.sk-parallel {display: flex;align-items: stretch;justify-content: center;background-color: white;}#sk-2af31ced-6f38-4abd-a3d0-7aeeef36d5ac div.sk-parallel::before {content: \"\";position: absolute;border-left: 1px solid gray;box-sizing: border-box;top: 2em;bottom: 0;left: 50%;}#sk-2af31ced-6f38-4abd-a3d0-7aeeef36d5ac div.sk-parallel-item {display: flex;flex-direction: column;position: relative;background-color: white;}#sk-2af31ced-6f38-4abd-a3d0-7aeeef36d5ac div.sk-parallel-item:first-child::after {align-self: flex-end;width: 50%;}#sk-2af31ced-6f38-4abd-a3d0-7aeeef36d5ac div.sk-parallel-item:last-child::after {align-self: flex-start;width: 50%;}#sk-2af31ced-6f38-4abd-a3d0-7aeeef36d5ac div.sk-parallel-item:only-child::after {width: 0;}#sk-2af31ced-6f38-4abd-a3d0-7aeeef36d5ac div.sk-dashed-wrapped {border: 1px dashed gray;margin: 0 0.4em 0.5em 0.4em;box-sizing: border-box;padding-bottom: 0.4em;background-color: white;position: relative;}#sk-2af31ced-6f38-4abd-a3d0-7aeeef36d5ac div.sk-label label {font-family: monospace;font-weight: bold;background-color: white;display: inline-block;line-height: 1.2em;}#sk-2af31ced-6f38-4abd-a3d0-7aeeef36d5ac div.sk-label-container {position: relative;z-index: 2;text-align: center;}#sk-2af31ced-6f38-4abd-a3d0-7aeeef36d5ac div.sk-container {/* jupyter's `normalize.less` sets `[hidden] { display: none; }` but bootstrap.min.css set `[hidden] { display: none !important; }` so we also need the `!important` here to be able to override the default hidden behavior on the sphinx rendered scikit-learn.org. See: https://github.com/scikit-learn/scikit-learn/issues/21755 */display: inline-block !important;position: relative;}#sk-2af31ced-6f38-4abd-a3d0-7aeeef36d5ac div.sk-text-repr-fallback {display: none;}</style><div id=\"sk-2af31ced-6f38-4abd-a3d0-7aeeef36d5ac\" class=\"sk-top-container\"><div class=\"sk-text-repr-fallback\"><pre>OrdinalEncoder(categories=([&#x27;Regular&#x27;, &#x27;Low Fat&#x27;], [&#x27;Small&#x27;, &#x27;Medium&#x27;, &#x27;High&#x27;]))</pre><b>Please rerun this cell to show the HTML repr or trust the notebook.</b></div><div class=\"sk-container\" hidden><div class=\"sk-item\"><div class=\"sk-estimator sk-toggleable\"><input class=\"sk-toggleable__control sk-hidden--visually\" id=\"13784e87-5de2-422d-9b23-f8a6387ac145\" type=\"checkbox\" checked><label for=\"13784e87-5de2-422d-9b23-f8a6387ac145\" class=\"sk-toggleable__label sk-toggleable__label-arrow\">OrdinalEncoder</label><div class=\"sk-toggleable__content\"><pre>OrdinalEncoder(categories=([&#x27;Regular&#x27;, &#x27;Low Fat&#x27;], [&#x27;Small&#x27;, &#x27;Medium&#x27;, &#x27;High&#x27;]))</pre></div></div></div></div></div>"
            ]
          },
          "metadata": {},
          "execution_count": 32
        }
      ]
    },
    {
      "cell_type": "code",
      "source": [
        "# Scalars and OHE\n",
        "\n",
        "# Numeric Scaler\n",
        "\n",
        "Scaler_Num = StandardScaler()\n",
        "\n",
        "# Ordinal Scaler\n",
        "\n",
        "Scaler_Ord = StandardScaler()\n",
        "\n",
        "# One Hot Encoder\n",
        "OHE = OneHotEncoder(handle_unknown='ignore', sparse=False)"
      ],
      "metadata": {
        "id": "JzraUzXgT7zx"
      },
      "execution_count": 33,
      "outputs": []
    },
    {
      "cell_type": "code",
      "source": [
        "# Instantiate Transformers\n",
        "\n",
        "# Imputers\n",
        "\n",
        "ordinal_imputer = SimpleImputer(strategy='constant', fill_value='Missing')\n",
        "freq_imputer= SimpleImputer(strategy='most_frequent')\n",
        "mean_imputer= SimpleImputer(strategy='mean')"
      ],
      "metadata": {
        "id": "5734RAZUdKyl"
      },
      "execution_count": 34,
      "outputs": []
    },
    {
      "cell_type": "code",
      "source": [
        "# Creating Pipelines\n",
        "\n",
        "ordinal_PL = make_pipeline(freq_imputer, Ordinal_Encoder, Scaler_Ord)\n",
        "nominal_PL = make_pipeline(freq_imputer, OHE)\n",
        "numeric_PL = make_pipeline(mean_imputer, Scaler_Num)"
      ],
      "metadata": {
        "id": "TgH5JBRAowsn"
      },
      "execution_count": 35,
      "outputs": []
    },
    {
      "cell_type": "code",
      "source": [
        "# Creating Tuples for Pipeline Pairing \n",
        "\n",
        "# Columns\n",
        "\n",
        "ordinal_columns = ['Item_Fat_Content', 'Outlet_Size']\n",
        "nominal_columns = ['Item_Type', 'Outlet_Size', 'Outlet_Location_Type', 'Outlet_Type']\n",
        "\n",
        "# Tuples\n",
        "\n",
        "ordinal_tuple = (ordinal_PL, ordinal_columns)\n",
        "nominal_tuple = (nominal_PL, nominal_columns)\n",
        "numeric_tuple = (numeric_PL, num_selector)"
      ],
      "metadata": {
        "id": "4nT2WGnvr54l"
      },
      "execution_count": 36,
      "outputs": []
    },
    {
      "cell_type": "code",
      "source": [
        "# Column Transformer and fit on Training Data\n",
        "\n",
        "preprocessor = make_column_transformer(ordinal_tuple, nominal_tuple, numeric_tuple, remainder='passthrough')\n",
        "preprocessor"
      ],
      "metadata": {
        "colab": {
          "base_uri": "https://localhost:8080/",
          "height": 187
        },
        "id": "msbLLhR7tOqc",
        "outputId": "3fc6bca9-0e35-464f-8a74-82883b9bf207"
      },
      "execution_count": 37,
      "outputs": [
        {
          "output_type": "execute_result",
          "data": {
            "text/plain": [
              "ColumnTransformer(remainder='passthrough',\n",
              "                  transformers=[('pipeline-1',\n",
              "                                 Pipeline(steps=[('simpleimputer',\n",
              "                                                  SimpleImputer(strategy='most_frequent')),\n",
              "                                                 ('ordinalencoder',\n",
              "                                                  OrdinalEncoder(categories=(['Regular',\n",
              "                                                                              'Low '\n",
              "                                                                              'Fat'],\n",
              "                                                                             ['Small',\n",
              "                                                                              'Medium',\n",
              "                                                                              'High']))),\n",
              "                                                 ('standardscaler',\n",
              "                                                  StandardScaler())]),\n",
              "                                 ['Item_Fat_Content', 'Outlet_Size']),\n",
              "                                ('pipeline-2',\n",
              "                                 Pipeline(steps=[('sim...\n",
              "                                                  SimpleImputer(strategy='most_frequent')),\n",
              "                                                 ('onehotencoder',\n",
              "                                                  OneHotEncoder(handle_unknown='ignore',\n",
              "                                                                sparse=False))]),\n",
              "                                 ['Item_Type', 'Outlet_Size',\n",
              "                                  'Outlet_Location_Type', 'Outlet_Type']),\n",
              "                                ('pipeline-3',\n",
              "                                 Pipeline(steps=[('simpleimputer',\n",
              "                                                  SimpleImputer()),\n",
              "                                                 ('standardscaler',\n",
              "                                                  StandardScaler())]),\n",
              "                                 <sklearn.compose._column_transformer.make_column_selector object at 0x7fd35ffc81d0>)])"
            ],
            "text/html": [
              "<style>#sk-020c7700-052e-4a68-98f3-a09e2c5069d2 {color: black;background-color: white;}#sk-020c7700-052e-4a68-98f3-a09e2c5069d2 pre{padding: 0;}#sk-020c7700-052e-4a68-98f3-a09e2c5069d2 div.sk-toggleable {background-color: white;}#sk-020c7700-052e-4a68-98f3-a09e2c5069d2 label.sk-toggleable__label {cursor: pointer;display: block;width: 100%;margin-bottom: 0;padding: 0.3em;box-sizing: border-box;text-align: center;}#sk-020c7700-052e-4a68-98f3-a09e2c5069d2 label.sk-toggleable__label-arrow:before {content: \"▸\";float: left;margin-right: 0.25em;color: #696969;}#sk-020c7700-052e-4a68-98f3-a09e2c5069d2 label.sk-toggleable__label-arrow:hover:before {color: black;}#sk-020c7700-052e-4a68-98f3-a09e2c5069d2 div.sk-estimator:hover label.sk-toggleable__label-arrow:before {color: black;}#sk-020c7700-052e-4a68-98f3-a09e2c5069d2 div.sk-toggleable__content {max-height: 0;max-width: 0;overflow: hidden;text-align: left;background-color: #f0f8ff;}#sk-020c7700-052e-4a68-98f3-a09e2c5069d2 div.sk-toggleable__content pre {margin: 0.2em;color: black;border-radius: 0.25em;background-color: #f0f8ff;}#sk-020c7700-052e-4a68-98f3-a09e2c5069d2 input.sk-toggleable__control:checked~div.sk-toggleable__content {max-height: 200px;max-width: 100%;overflow: auto;}#sk-020c7700-052e-4a68-98f3-a09e2c5069d2 input.sk-toggleable__control:checked~label.sk-toggleable__label-arrow:before {content: \"▾\";}#sk-020c7700-052e-4a68-98f3-a09e2c5069d2 div.sk-estimator input.sk-toggleable__control:checked~label.sk-toggleable__label {background-color: #d4ebff;}#sk-020c7700-052e-4a68-98f3-a09e2c5069d2 div.sk-label input.sk-toggleable__control:checked~label.sk-toggleable__label {background-color: #d4ebff;}#sk-020c7700-052e-4a68-98f3-a09e2c5069d2 input.sk-hidden--visually {border: 0;clip: rect(1px 1px 1px 1px);clip: rect(1px, 1px, 1px, 1px);height: 1px;margin: -1px;overflow: hidden;padding: 0;position: absolute;width: 1px;}#sk-020c7700-052e-4a68-98f3-a09e2c5069d2 div.sk-estimator {font-family: monospace;background-color: #f0f8ff;border: 1px dotted black;border-radius: 0.25em;box-sizing: border-box;margin-bottom: 0.5em;}#sk-020c7700-052e-4a68-98f3-a09e2c5069d2 div.sk-estimator:hover {background-color: #d4ebff;}#sk-020c7700-052e-4a68-98f3-a09e2c5069d2 div.sk-parallel-item::after {content: \"\";width: 100%;border-bottom: 1px solid gray;flex-grow: 1;}#sk-020c7700-052e-4a68-98f3-a09e2c5069d2 div.sk-label:hover label.sk-toggleable__label {background-color: #d4ebff;}#sk-020c7700-052e-4a68-98f3-a09e2c5069d2 div.sk-serial::before {content: \"\";position: absolute;border-left: 1px solid gray;box-sizing: border-box;top: 2em;bottom: 0;left: 50%;}#sk-020c7700-052e-4a68-98f3-a09e2c5069d2 div.sk-serial {display: flex;flex-direction: column;align-items: center;background-color: white;padding-right: 0.2em;padding-left: 0.2em;}#sk-020c7700-052e-4a68-98f3-a09e2c5069d2 div.sk-item {z-index: 1;}#sk-020c7700-052e-4a68-98f3-a09e2c5069d2 div.sk-parallel {display: flex;align-items: stretch;justify-content: center;background-color: white;}#sk-020c7700-052e-4a68-98f3-a09e2c5069d2 div.sk-parallel::before {content: \"\";position: absolute;border-left: 1px solid gray;box-sizing: border-box;top: 2em;bottom: 0;left: 50%;}#sk-020c7700-052e-4a68-98f3-a09e2c5069d2 div.sk-parallel-item {display: flex;flex-direction: column;position: relative;background-color: white;}#sk-020c7700-052e-4a68-98f3-a09e2c5069d2 div.sk-parallel-item:first-child::after {align-self: flex-end;width: 50%;}#sk-020c7700-052e-4a68-98f3-a09e2c5069d2 div.sk-parallel-item:last-child::after {align-self: flex-start;width: 50%;}#sk-020c7700-052e-4a68-98f3-a09e2c5069d2 div.sk-parallel-item:only-child::after {width: 0;}#sk-020c7700-052e-4a68-98f3-a09e2c5069d2 div.sk-dashed-wrapped {border: 1px dashed gray;margin: 0 0.4em 0.5em 0.4em;box-sizing: border-box;padding-bottom: 0.4em;background-color: white;position: relative;}#sk-020c7700-052e-4a68-98f3-a09e2c5069d2 div.sk-label label {font-family: monospace;font-weight: bold;background-color: white;display: inline-block;line-height: 1.2em;}#sk-020c7700-052e-4a68-98f3-a09e2c5069d2 div.sk-label-container {position: relative;z-index: 2;text-align: center;}#sk-020c7700-052e-4a68-98f3-a09e2c5069d2 div.sk-container {/* jupyter's `normalize.less` sets `[hidden] { display: none; }` but bootstrap.min.css set `[hidden] { display: none !important; }` so we also need the `!important` here to be able to override the default hidden behavior on the sphinx rendered scikit-learn.org. See: https://github.com/scikit-learn/scikit-learn/issues/21755 */display: inline-block !important;position: relative;}#sk-020c7700-052e-4a68-98f3-a09e2c5069d2 div.sk-text-repr-fallback {display: none;}</style><div id=\"sk-020c7700-052e-4a68-98f3-a09e2c5069d2\" class=\"sk-top-container\"><div class=\"sk-text-repr-fallback\"><pre>ColumnTransformer(remainder=&#x27;passthrough&#x27;,\n",
              "                  transformers=[(&#x27;pipeline-1&#x27;,\n",
              "                                 Pipeline(steps=[(&#x27;simpleimputer&#x27;,\n",
              "                                                  SimpleImputer(strategy=&#x27;most_frequent&#x27;)),\n",
              "                                                 (&#x27;ordinalencoder&#x27;,\n",
              "                                                  OrdinalEncoder(categories=([&#x27;Regular&#x27;,\n",
              "                                                                              &#x27;Low &#x27;\n",
              "                                                                              &#x27;Fat&#x27;],\n",
              "                                                                             [&#x27;Small&#x27;,\n",
              "                                                                              &#x27;Medium&#x27;,\n",
              "                                                                              &#x27;High&#x27;]))),\n",
              "                                                 (&#x27;standardscaler&#x27;,\n",
              "                                                  StandardScaler())]),\n",
              "                                 [&#x27;Item_Fat_Content&#x27;, &#x27;Outlet_Size&#x27;]),\n",
              "                                (&#x27;pipeline-2&#x27;,\n",
              "                                 Pipeline(steps=[(&#x27;sim...\n",
              "                                                  SimpleImputer(strategy=&#x27;most_frequent&#x27;)),\n",
              "                                                 (&#x27;onehotencoder&#x27;,\n",
              "                                                  OneHotEncoder(handle_unknown=&#x27;ignore&#x27;,\n",
              "                                                                sparse=False))]),\n",
              "                                 [&#x27;Item_Type&#x27;, &#x27;Outlet_Size&#x27;,\n",
              "                                  &#x27;Outlet_Location_Type&#x27;, &#x27;Outlet_Type&#x27;]),\n",
              "                                (&#x27;pipeline-3&#x27;,\n",
              "                                 Pipeline(steps=[(&#x27;simpleimputer&#x27;,\n",
              "                                                  SimpleImputer()),\n",
              "                                                 (&#x27;standardscaler&#x27;,\n",
              "                                                  StandardScaler())]),\n",
              "                                 &lt;sklearn.compose._column_transformer.make_column_selector object at 0x7fd35ffc81d0&gt;)])</pre><b>Please rerun this cell to show the HTML repr or trust the notebook.</b></div><div class=\"sk-container\" hidden><div class=\"sk-item sk-dashed-wrapped\"><div class=\"sk-label-container\"><div class=\"sk-label sk-toggleable\"><input class=\"sk-toggleable__control sk-hidden--visually\" id=\"7f3f2d00-746b-4815-886f-433e1fd69f4a\" type=\"checkbox\" ><label for=\"7f3f2d00-746b-4815-886f-433e1fd69f4a\" class=\"sk-toggleable__label sk-toggleable__label-arrow\">ColumnTransformer</label><div class=\"sk-toggleable__content\"><pre>ColumnTransformer(remainder=&#x27;passthrough&#x27;,\n",
              "                  transformers=[(&#x27;pipeline-1&#x27;,\n",
              "                                 Pipeline(steps=[(&#x27;simpleimputer&#x27;,\n",
              "                                                  SimpleImputer(strategy=&#x27;most_frequent&#x27;)),\n",
              "                                                 (&#x27;ordinalencoder&#x27;,\n",
              "                                                  OrdinalEncoder(categories=([&#x27;Regular&#x27;,\n",
              "                                                                              &#x27;Low &#x27;\n",
              "                                                                              &#x27;Fat&#x27;],\n",
              "                                                                             [&#x27;Small&#x27;,\n",
              "                                                                              &#x27;Medium&#x27;,\n",
              "                                                                              &#x27;High&#x27;]))),\n",
              "                                                 (&#x27;standardscaler&#x27;,\n",
              "                                                  StandardScaler())]),\n",
              "                                 [&#x27;Item_Fat_Content&#x27;, &#x27;Outlet_Size&#x27;]),\n",
              "                                (&#x27;pipeline-2&#x27;,\n",
              "                                 Pipeline(steps=[(&#x27;sim...\n",
              "                                                  SimpleImputer(strategy=&#x27;most_frequent&#x27;)),\n",
              "                                                 (&#x27;onehotencoder&#x27;,\n",
              "                                                  OneHotEncoder(handle_unknown=&#x27;ignore&#x27;,\n",
              "                                                                sparse=False))]),\n",
              "                                 [&#x27;Item_Type&#x27;, &#x27;Outlet_Size&#x27;,\n",
              "                                  &#x27;Outlet_Location_Type&#x27;, &#x27;Outlet_Type&#x27;]),\n",
              "                                (&#x27;pipeline-3&#x27;,\n",
              "                                 Pipeline(steps=[(&#x27;simpleimputer&#x27;,\n",
              "                                                  SimpleImputer()),\n",
              "                                                 (&#x27;standardscaler&#x27;,\n",
              "                                                  StandardScaler())]),\n",
              "                                 &lt;sklearn.compose._column_transformer.make_column_selector object at 0x7fd35ffc81d0&gt;)])</pre></div></div></div><div class=\"sk-parallel\"><div class=\"sk-parallel-item\"><div class=\"sk-item\"><div class=\"sk-label-container\"><div class=\"sk-label sk-toggleable\"><input class=\"sk-toggleable__control sk-hidden--visually\" id=\"02d89e2f-cf3e-475c-97f9-93158a40d528\" type=\"checkbox\" ><label for=\"02d89e2f-cf3e-475c-97f9-93158a40d528\" class=\"sk-toggleable__label sk-toggleable__label-arrow\">pipeline-1</label><div class=\"sk-toggleable__content\"><pre>[&#x27;Item_Fat_Content&#x27;, &#x27;Outlet_Size&#x27;]</pre></div></div></div><div class=\"sk-serial\"><div class=\"sk-item\"><div class=\"sk-serial\"><div class=\"sk-item\"><div class=\"sk-estimator sk-toggleable\"><input class=\"sk-toggleable__control sk-hidden--visually\" id=\"ad864fd5-cdce-4f36-8073-3d55f3cf9ee6\" type=\"checkbox\" ><label for=\"ad864fd5-cdce-4f36-8073-3d55f3cf9ee6\" class=\"sk-toggleable__label sk-toggleable__label-arrow\">SimpleImputer</label><div class=\"sk-toggleable__content\"><pre>SimpleImputer(strategy=&#x27;most_frequent&#x27;)</pre></div></div></div><div class=\"sk-item\"><div class=\"sk-estimator sk-toggleable\"><input class=\"sk-toggleable__control sk-hidden--visually\" id=\"e3010f54-2c2e-4cbc-b19e-5a7b389180dd\" type=\"checkbox\" ><label for=\"e3010f54-2c2e-4cbc-b19e-5a7b389180dd\" class=\"sk-toggleable__label sk-toggleable__label-arrow\">OrdinalEncoder</label><div class=\"sk-toggleable__content\"><pre>OrdinalEncoder(categories=([&#x27;Regular&#x27;, &#x27;Low Fat&#x27;], [&#x27;Small&#x27;, &#x27;Medium&#x27;, &#x27;High&#x27;]))</pre></div></div></div><div class=\"sk-item\"><div class=\"sk-estimator sk-toggleable\"><input class=\"sk-toggleable__control sk-hidden--visually\" id=\"d9c28645-5906-4725-9b5e-d0ba239bb887\" type=\"checkbox\" ><label for=\"d9c28645-5906-4725-9b5e-d0ba239bb887\" class=\"sk-toggleable__label sk-toggleable__label-arrow\">StandardScaler</label><div class=\"sk-toggleable__content\"><pre>StandardScaler()</pre></div></div></div></div></div></div></div></div><div class=\"sk-parallel-item\"><div class=\"sk-item\"><div class=\"sk-label-container\"><div class=\"sk-label sk-toggleable\"><input class=\"sk-toggleable__control sk-hidden--visually\" id=\"bfcca02e-b830-4dac-a6b5-145a89ae4f29\" type=\"checkbox\" ><label for=\"bfcca02e-b830-4dac-a6b5-145a89ae4f29\" class=\"sk-toggleable__label sk-toggleable__label-arrow\">pipeline-2</label><div class=\"sk-toggleable__content\"><pre>[&#x27;Item_Type&#x27;, &#x27;Outlet_Size&#x27;, &#x27;Outlet_Location_Type&#x27;, &#x27;Outlet_Type&#x27;]</pre></div></div></div><div class=\"sk-serial\"><div class=\"sk-item\"><div class=\"sk-serial\"><div class=\"sk-item\"><div class=\"sk-estimator sk-toggleable\"><input class=\"sk-toggleable__control sk-hidden--visually\" id=\"5819fd55-dcaf-4ed6-8e59-db69b0cea656\" type=\"checkbox\" ><label for=\"5819fd55-dcaf-4ed6-8e59-db69b0cea656\" class=\"sk-toggleable__label sk-toggleable__label-arrow\">SimpleImputer</label><div class=\"sk-toggleable__content\"><pre>SimpleImputer(strategy=&#x27;most_frequent&#x27;)</pre></div></div></div><div class=\"sk-item\"><div class=\"sk-estimator sk-toggleable\"><input class=\"sk-toggleable__control sk-hidden--visually\" id=\"7a5ccb06-8f98-4cf4-adb1-c846a2194607\" type=\"checkbox\" ><label for=\"7a5ccb06-8f98-4cf4-adb1-c846a2194607\" class=\"sk-toggleable__label sk-toggleable__label-arrow\">OneHotEncoder</label><div class=\"sk-toggleable__content\"><pre>OneHotEncoder(handle_unknown=&#x27;ignore&#x27;, sparse=False)</pre></div></div></div></div></div></div></div></div><div class=\"sk-parallel-item\"><div class=\"sk-item\"><div class=\"sk-label-container\"><div class=\"sk-label sk-toggleable\"><input class=\"sk-toggleable__control sk-hidden--visually\" id=\"2c2f63da-6269-4c7b-a396-5aff4cf721c2\" type=\"checkbox\" ><label for=\"2c2f63da-6269-4c7b-a396-5aff4cf721c2\" class=\"sk-toggleable__label sk-toggleable__label-arrow\">pipeline-3</label><div class=\"sk-toggleable__content\"><pre>&lt;sklearn.compose._column_transformer.make_column_selector object at 0x7fd35ffc81d0&gt;</pre></div></div></div><div class=\"sk-serial\"><div class=\"sk-item\"><div class=\"sk-serial\"><div class=\"sk-item\"><div class=\"sk-estimator sk-toggleable\"><input class=\"sk-toggleable__control sk-hidden--visually\" id=\"98f30cea-0cc2-4ca8-ba79-a7156f69ec79\" type=\"checkbox\" ><label for=\"98f30cea-0cc2-4ca8-ba79-a7156f69ec79\" class=\"sk-toggleable__label sk-toggleable__label-arrow\">SimpleImputer</label><div class=\"sk-toggleable__content\"><pre>SimpleImputer()</pre></div></div></div><div class=\"sk-item\"><div class=\"sk-estimator sk-toggleable\"><input class=\"sk-toggleable__control sk-hidden--visually\" id=\"437dfddd-b358-4476-90f8-7b6bc2b06d1d\" type=\"checkbox\" ><label for=\"437dfddd-b358-4476-90f8-7b6bc2b06d1d\" class=\"sk-toggleable__label sk-toggleable__label-arrow\">StandardScaler</label><div class=\"sk-toggleable__content\"><pre>StandardScaler()</pre></div></div></div></div></div></div></div></div><div class=\"sk-parallel-item\"><div class=\"sk-item\"><div class=\"sk-label-container\"><div class=\"sk-label sk-toggleable\"><input class=\"sk-toggleable__control sk-hidden--visually\" id=\"83a9109b-92a8-4ed8-94d3-193f6b8fa915\" type=\"checkbox\" ><label for=\"83a9109b-92a8-4ed8-94d3-193f6b8fa915\" class=\"sk-toggleable__label sk-toggleable__label-arrow\">remainder</label><div class=\"sk-toggleable__content\"><pre></pre></div></div></div><div class=\"sk-serial\"><div class=\"sk-item\"><div class=\"sk-estimator sk-toggleable\"><input class=\"sk-toggleable__control sk-hidden--visually\" id=\"0af1b065-8c17-4560-8adb-e4f12fe58bd5\" type=\"checkbox\" ><label for=\"0af1b065-8c17-4560-8adb-e4f12fe58bd5\" class=\"sk-toggleable__label sk-toggleable__label-arrow\">passthrough</label><div class=\"sk-toggleable__content\"><pre>passthrough</pre></div></div></div></div></div></div></div></div></div></div>"
            ]
          },
          "metadata": {},
          "execution_count": 37
        }
      ]
    },
    {
      "cell_type": "code",
      "source": [
        "X.ndim"
      ],
      "metadata": {
        "colab": {
          "base_uri": "https://localhost:8080/"
        },
        "id": "OCV-isE1ADPl",
        "outputId": "91688b68-7d81-4d79-f454-d19cddd50e92"
      },
      "execution_count": 38,
      "outputs": [
        {
          "output_type": "execute_result",
          "data": {
            "text/plain": [
              "2"
            ]
          },
          "metadata": {},
          "execution_count": 38
        }
      ]
    },
    {
      "cell_type": "code",
      "source": [
        "y.ndim"
      ],
      "metadata": {
        "colab": {
          "base_uri": "https://localhost:8080/"
        },
        "id": "jFWg2s6fAFyd",
        "outputId": "93f770c2-8276-49e8-faca-435083a15096"
      },
      "execution_count": 39,
      "outputs": [
        {
          "output_type": "execute_result",
          "data": {
            "text/plain": [
              "1"
            ]
          },
          "metadata": {},
          "execution_count": 39
        }
      ]
    },
    {
      "cell_type": "code",
      "source": [
        "X_train.shape"
      ],
      "metadata": {
        "colab": {
          "base_uri": "https://localhost:8080/"
        },
        "id": "Jj-wy4BVAInK",
        "outputId": "6fcba4e7-ca84-44ee-ea90-fcb1bdfc51d0"
      },
      "execution_count": 40,
      "outputs": [
        {
          "output_type": "execute_result",
          "data": {
            "text/plain": [
              "(6392, 8)"
            ]
          },
          "metadata": {},
          "execution_count": 40
        }
      ]
    },
    {
      "cell_type": "code",
      "source": [
        "y_train.shape"
      ],
      "metadata": {
        "colab": {
          "base_uri": "https://localhost:8080/"
        },
        "id": "SxSDJJQKALhp",
        "outputId": "977a7445-f835-4dce-bf0a-14bd24a78efd"
      },
      "execution_count": 41,
      "outputs": [
        {
          "output_type": "execute_result",
          "data": {
            "text/plain": [
              "(6392,)"
            ]
          },
          "metadata": {},
          "execution_count": 41
        }
      ]
    },
    {
      "cell_type": "code",
      "source": [
        "preprocessor.fit(X_train)"
      ],
      "metadata": {
        "colab": {
          "base_uri": "https://localhost:8080/",
          "height": 187
        },
        "id": "FO7W7NLAbJkG",
        "outputId": "2a0b4c8d-8d24-4143-c740-ed66c8963afe"
      },
      "execution_count": 42,
      "outputs": [
        {
          "output_type": "execute_result",
          "data": {
            "text/plain": [
              "ColumnTransformer(remainder='passthrough',\n",
              "                  transformers=[('pipeline-1',\n",
              "                                 Pipeline(steps=[('simpleimputer',\n",
              "                                                  SimpleImputer(strategy='most_frequent')),\n",
              "                                                 ('ordinalencoder',\n",
              "                                                  OrdinalEncoder(categories=(['Regular',\n",
              "                                                                              'Low '\n",
              "                                                                              'Fat'],\n",
              "                                                                             ['Small',\n",
              "                                                                              'Medium',\n",
              "                                                                              'High']))),\n",
              "                                                 ('standardscaler',\n",
              "                                                  StandardScaler())]),\n",
              "                                 ['Item_Fat_Content', 'Outlet_Size']),\n",
              "                                ('pipeline-2',\n",
              "                                 Pipeline(steps=[('sim...\n",
              "                                                  SimpleImputer(strategy='most_frequent')),\n",
              "                                                 ('onehotencoder',\n",
              "                                                  OneHotEncoder(handle_unknown='ignore',\n",
              "                                                                sparse=False))]),\n",
              "                                 ['Item_Type', 'Outlet_Size',\n",
              "                                  'Outlet_Location_Type', 'Outlet_Type']),\n",
              "                                ('pipeline-3',\n",
              "                                 Pipeline(steps=[('simpleimputer',\n",
              "                                                  SimpleImputer()),\n",
              "                                                 ('standardscaler',\n",
              "                                                  StandardScaler())]),\n",
              "                                 <sklearn.compose._column_transformer.make_column_selector object at 0x7fd35ffc81d0>)])"
            ],
            "text/html": [
              "<style>#sk-ae59c409-cbad-4fc1-b7fb-d173f03cc60e {color: black;background-color: white;}#sk-ae59c409-cbad-4fc1-b7fb-d173f03cc60e pre{padding: 0;}#sk-ae59c409-cbad-4fc1-b7fb-d173f03cc60e div.sk-toggleable {background-color: white;}#sk-ae59c409-cbad-4fc1-b7fb-d173f03cc60e label.sk-toggleable__label {cursor: pointer;display: block;width: 100%;margin-bottom: 0;padding: 0.3em;box-sizing: border-box;text-align: center;}#sk-ae59c409-cbad-4fc1-b7fb-d173f03cc60e label.sk-toggleable__label-arrow:before {content: \"▸\";float: left;margin-right: 0.25em;color: #696969;}#sk-ae59c409-cbad-4fc1-b7fb-d173f03cc60e label.sk-toggleable__label-arrow:hover:before {color: black;}#sk-ae59c409-cbad-4fc1-b7fb-d173f03cc60e div.sk-estimator:hover label.sk-toggleable__label-arrow:before {color: black;}#sk-ae59c409-cbad-4fc1-b7fb-d173f03cc60e div.sk-toggleable__content {max-height: 0;max-width: 0;overflow: hidden;text-align: left;background-color: #f0f8ff;}#sk-ae59c409-cbad-4fc1-b7fb-d173f03cc60e div.sk-toggleable__content pre {margin: 0.2em;color: black;border-radius: 0.25em;background-color: #f0f8ff;}#sk-ae59c409-cbad-4fc1-b7fb-d173f03cc60e input.sk-toggleable__control:checked~div.sk-toggleable__content {max-height: 200px;max-width: 100%;overflow: auto;}#sk-ae59c409-cbad-4fc1-b7fb-d173f03cc60e input.sk-toggleable__control:checked~label.sk-toggleable__label-arrow:before {content: \"▾\";}#sk-ae59c409-cbad-4fc1-b7fb-d173f03cc60e div.sk-estimator input.sk-toggleable__control:checked~label.sk-toggleable__label {background-color: #d4ebff;}#sk-ae59c409-cbad-4fc1-b7fb-d173f03cc60e div.sk-label input.sk-toggleable__control:checked~label.sk-toggleable__label {background-color: #d4ebff;}#sk-ae59c409-cbad-4fc1-b7fb-d173f03cc60e input.sk-hidden--visually {border: 0;clip: rect(1px 1px 1px 1px);clip: rect(1px, 1px, 1px, 1px);height: 1px;margin: -1px;overflow: hidden;padding: 0;position: absolute;width: 1px;}#sk-ae59c409-cbad-4fc1-b7fb-d173f03cc60e div.sk-estimator {font-family: monospace;background-color: #f0f8ff;border: 1px dotted black;border-radius: 0.25em;box-sizing: border-box;margin-bottom: 0.5em;}#sk-ae59c409-cbad-4fc1-b7fb-d173f03cc60e div.sk-estimator:hover {background-color: #d4ebff;}#sk-ae59c409-cbad-4fc1-b7fb-d173f03cc60e div.sk-parallel-item::after {content: \"\";width: 100%;border-bottom: 1px solid gray;flex-grow: 1;}#sk-ae59c409-cbad-4fc1-b7fb-d173f03cc60e div.sk-label:hover label.sk-toggleable__label {background-color: #d4ebff;}#sk-ae59c409-cbad-4fc1-b7fb-d173f03cc60e div.sk-serial::before {content: \"\";position: absolute;border-left: 1px solid gray;box-sizing: border-box;top: 2em;bottom: 0;left: 50%;}#sk-ae59c409-cbad-4fc1-b7fb-d173f03cc60e div.sk-serial {display: flex;flex-direction: column;align-items: center;background-color: white;padding-right: 0.2em;padding-left: 0.2em;}#sk-ae59c409-cbad-4fc1-b7fb-d173f03cc60e div.sk-item {z-index: 1;}#sk-ae59c409-cbad-4fc1-b7fb-d173f03cc60e div.sk-parallel {display: flex;align-items: stretch;justify-content: center;background-color: white;}#sk-ae59c409-cbad-4fc1-b7fb-d173f03cc60e div.sk-parallel::before {content: \"\";position: absolute;border-left: 1px solid gray;box-sizing: border-box;top: 2em;bottom: 0;left: 50%;}#sk-ae59c409-cbad-4fc1-b7fb-d173f03cc60e div.sk-parallel-item {display: flex;flex-direction: column;position: relative;background-color: white;}#sk-ae59c409-cbad-4fc1-b7fb-d173f03cc60e div.sk-parallel-item:first-child::after {align-self: flex-end;width: 50%;}#sk-ae59c409-cbad-4fc1-b7fb-d173f03cc60e div.sk-parallel-item:last-child::after {align-self: flex-start;width: 50%;}#sk-ae59c409-cbad-4fc1-b7fb-d173f03cc60e div.sk-parallel-item:only-child::after {width: 0;}#sk-ae59c409-cbad-4fc1-b7fb-d173f03cc60e div.sk-dashed-wrapped {border: 1px dashed gray;margin: 0 0.4em 0.5em 0.4em;box-sizing: border-box;padding-bottom: 0.4em;background-color: white;position: relative;}#sk-ae59c409-cbad-4fc1-b7fb-d173f03cc60e div.sk-label label {font-family: monospace;font-weight: bold;background-color: white;display: inline-block;line-height: 1.2em;}#sk-ae59c409-cbad-4fc1-b7fb-d173f03cc60e div.sk-label-container {position: relative;z-index: 2;text-align: center;}#sk-ae59c409-cbad-4fc1-b7fb-d173f03cc60e div.sk-container {/* jupyter's `normalize.less` sets `[hidden] { display: none; }` but bootstrap.min.css set `[hidden] { display: none !important; }` so we also need the `!important` here to be able to override the default hidden behavior on the sphinx rendered scikit-learn.org. See: https://github.com/scikit-learn/scikit-learn/issues/21755 */display: inline-block !important;position: relative;}#sk-ae59c409-cbad-4fc1-b7fb-d173f03cc60e div.sk-text-repr-fallback {display: none;}</style><div id=\"sk-ae59c409-cbad-4fc1-b7fb-d173f03cc60e\" class=\"sk-top-container\"><div class=\"sk-text-repr-fallback\"><pre>ColumnTransformer(remainder=&#x27;passthrough&#x27;,\n",
              "                  transformers=[(&#x27;pipeline-1&#x27;,\n",
              "                                 Pipeline(steps=[(&#x27;simpleimputer&#x27;,\n",
              "                                                  SimpleImputer(strategy=&#x27;most_frequent&#x27;)),\n",
              "                                                 (&#x27;ordinalencoder&#x27;,\n",
              "                                                  OrdinalEncoder(categories=([&#x27;Regular&#x27;,\n",
              "                                                                              &#x27;Low &#x27;\n",
              "                                                                              &#x27;Fat&#x27;],\n",
              "                                                                             [&#x27;Small&#x27;,\n",
              "                                                                              &#x27;Medium&#x27;,\n",
              "                                                                              &#x27;High&#x27;]))),\n",
              "                                                 (&#x27;standardscaler&#x27;,\n",
              "                                                  StandardScaler())]),\n",
              "                                 [&#x27;Item_Fat_Content&#x27;, &#x27;Outlet_Size&#x27;]),\n",
              "                                (&#x27;pipeline-2&#x27;,\n",
              "                                 Pipeline(steps=[(&#x27;sim...\n",
              "                                                  SimpleImputer(strategy=&#x27;most_frequent&#x27;)),\n",
              "                                                 (&#x27;onehotencoder&#x27;,\n",
              "                                                  OneHotEncoder(handle_unknown=&#x27;ignore&#x27;,\n",
              "                                                                sparse=False))]),\n",
              "                                 [&#x27;Item_Type&#x27;, &#x27;Outlet_Size&#x27;,\n",
              "                                  &#x27;Outlet_Location_Type&#x27;, &#x27;Outlet_Type&#x27;]),\n",
              "                                (&#x27;pipeline-3&#x27;,\n",
              "                                 Pipeline(steps=[(&#x27;simpleimputer&#x27;,\n",
              "                                                  SimpleImputer()),\n",
              "                                                 (&#x27;standardscaler&#x27;,\n",
              "                                                  StandardScaler())]),\n",
              "                                 &lt;sklearn.compose._column_transformer.make_column_selector object at 0x7fd35ffc81d0&gt;)])</pre><b>Please rerun this cell to show the HTML repr or trust the notebook.</b></div><div class=\"sk-container\" hidden><div class=\"sk-item sk-dashed-wrapped\"><div class=\"sk-label-container\"><div class=\"sk-label sk-toggleable\"><input class=\"sk-toggleable__control sk-hidden--visually\" id=\"3e0cdbd8-a01e-4c04-9e87-962672b00e3d\" type=\"checkbox\" ><label for=\"3e0cdbd8-a01e-4c04-9e87-962672b00e3d\" class=\"sk-toggleable__label sk-toggleable__label-arrow\">ColumnTransformer</label><div class=\"sk-toggleable__content\"><pre>ColumnTransformer(remainder=&#x27;passthrough&#x27;,\n",
              "                  transformers=[(&#x27;pipeline-1&#x27;,\n",
              "                                 Pipeline(steps=[(&#x27;simpleimputer&#x27;,\n",
              "                                                  SimpleImputer(strategy=&#x27;most_frequent&#x27;)),\n",
              "                                                 (&#x27;ordinalencoder&#x27;,\n",
              "                                                  OrdinalEncoder(categories=([&#x27;Regular&#x27;,\n",
              "                                                                              &#x27;Low &#x27;\n",
              "                                                                              &#x27;Fat&#x27;],\n",
              "                                                                             [&#x27;Small&#x27;,\n",
              "                                                                              &#x27;Medium&#x27;,\n",
              "                                                                              &#x27;High&#x27;]))),\n",
              "                                                 (&#x27;standardscaler&#x27;,\n",
              "                                                  StandardScaler())]),\n",
              "                                 [&#x27;Item_Fat_Content&#x27;, &#x27;Outlet_Size&#x27;]),\n",
              "                                (&#x27;pipeline-2&#x27;,\n",
              "                                 Pipeline(steps=[(&#x27;sim...\n",
              "                                                  SimpleImputer(strategy=&#x27;most_frequent&#x27;)),\n",
              "                                                 (&#x27;onehotencoder&#x27;,\n",
              "                                                  OneHotEncoder(handle_unknown=&#x27;ignore&#x27;,\n",
              "                                                                sparse=False))]),\n",
              "                                 [&#x27;Item_Type&#x27;, &#x27;Outlet_Size&#x27;,\n",
              "                                  &#x27;Outlet_Location_Type&#x27;, &#x27;Outlet_Type&#x27;]),\n",
              "                                (&#x27;pipeline-3&#x27;,\n",
              "                                 Pipeline(steps=[(&#x27;simpleimputer&#x27;,\n",
              "                                                  SimpleImputer()),\n",
              "                                                 (&#x27;standardscaler&#x27;,\n",
              "                                                  StandardScaler())]),\n",
              "                                 &lt;sklearn.compose._column_transformer.make_column_selector object at 0x7fd35ffc81d0&gt;)])</pre></div></div></div><div class=\"sk-parallel\"><div class=\"sk-parallel-item\"><div class=\"sk-item\"><div class=\"sk-label-container\"><div class=\"sk-label sk-toggleable\"><input class=\"sk-toggleable__control sk-hidden--visually\" id=\"61676889-89e9-43bb-924f-08fa3e000b6e\" type=\"checkbox\" ><label for=\"61676889-89e9-43bb-924f-08fa3e000b6e\" class=\"sk-toggleable__label sk-toggleable__label-arrow\">pipeline-1</label><div class=\"sk-toggleable__content\"><pre>[&#x27;Item_Fat_Content&#x27;, &#x27;Outlet_Size&#x27;]</pre></div></div></div><div class=\"sk-serial\"><div class=\"sk-item\"><div class=\"sk-serial\"><div class=\"sk-item\"><div class=\"sk-estimator sk-toggleable\"><input class=\"sk-toggleable__control sk-hidden--visually\" id=\"87beed3f-b352-4eb6-96aa-d95e9c0f6c3c\" type=\"checkbox\" ><label for=\"87beed3f-b352-4eb6-96aa-d95e9c0f6c3c\" class=\"sk-toggleable__label sk-toggleable__label-arrow\">SimpleImputer</label><div class=\"sk-toggleable__content\"><pre>SimpleImputer(strategy=&#x27;most_frequent&#x27;)</pre></div></div></div><div class=\"sk-item\"><div class=\"sk-estimator sk-toggleable\"><input class=\"sk-toggleable__control sk-hidden--visually\" id=\"6d7bb52d-b052-4d6e-9bea-43b56577d101\" type=\"checkbox\" ><label for=\"6d7bb52d-b052-4d6e-9bea-43b56577d101\" class=\"sk-toggleable__label sk-toggleable__label-arrow\">OrdinalEncoder</label><div class=\"sk-toggleable__content\"><pre>OrdinalEncoder(categories=([&#x27;Regular&#x27;, &#x27;Low Fat&#x27;], [&#x27;Small&#x27;, &#x27;Medium&#x27;, &#x27;High&#x27;]))</pre></div></div></div><div class=\"sk-item\"><div class=\"sk-estimator sk-toggleable\"><input class=\"sk-toggleable__control sk-hidden--visually\" id=\"4a80ee27-e86b-488f-892c-f011e30fa87f\" type=\"checkbox\" ><label for=\"4a80ee27-e86b-488f-892c-f011e30fa87f\" class=\"sk-toggleable__label sk-toggleable__label-arrow\">StandardScaler</label><div class=\"sk-toggleable__content\"><pre>StandardScaler()</pre></div></div></div></div></div></div></div></div><div class=\"sk-parallel-item\"><div class=\"sk-item\"><div class=\"sk-label-container\"><div class=\"sk-label sk-toggleable\"><input class=\"sk-toggleable__control sk-hidden--visually\" id=\"82e6cf1a-5e0d-43bc-bc10-8685cd334b1c\" type=\"checkbox\" ><label for=\"82e6cf1a-5e0d-43bc-bc10-8685cd334b1c\" class=\"sk-toggleable__label sk-toggleable__label-arrow\">pipeline-2</label><div class=\"sk-toggleable__content\"><pre>[&#x27;Item_Type&#x27;, &#x27;Outlet_Size&#x27;, &#x27;Outlet_Location_Type&#x27;, &#x27;Outlet_Type&#x27;]</pre></div></div></div><div class=\"sk-serial\"><div class=\"sk-item\"><div class=\"sk-serial\"><div class=\"sk-item\"><div class=\"sk-estimator sk-toggleable\"><input class=\"sk-toggleable__control sk-hidden--visually\" id=\"9a8614c3-86ee-4ecf-810a-f655c4876106\" type=\"checkbox\" ><label for=\"9a8614c3-86ee-4ecf-810a-f655c4876106\" class=\"sk-toggleable__label sk-toggleable__label-arrow\">SimpleImputer</label><div class=\"sk-toggleable__content\"><pre>SimpleImputer(strategy=&#x27;most_frequent&#x27;)</pre></div></div></div><div class=\"sk-item\"><div class=\"sk-estimator sk-toggleable\"><input class=\"sk-toggleable__control sk-hidden--visually\" id=\"12cc5323-970d-4dfb-ad64-4a05f6ceb18f\" type=\"checkbox\" ><label for=\"12cc5323-970d-4dfb-ad64-4a05f6ceb18f\" class=\"sk-toggleable__label sk-toggleable__label-arrow\">OneHotEncoder</label><div class=\"sk-toggleable__content\"><pre>OneHotEncoder(handle_unknown=&#x27;ignore&#x27;, sparse=False)</pre></div></div></div></div></div></div></div></div><div class=\"sk-parallel-item\"><div class=\"sk-item\"><div class=\"sk-label-container\"><div class=\"sk-label sk-toggleable\"><input class=\"sk-toggleable__control sk-hidden--visually\" id=\"22b922f8-1058-4d05-af3c-a18fe7a525fe\" type=\"checkbox\" ><label for=\"22b922f8-1058-4d05-af3c-a18fe7a525fe\" class=\"sk-toggleable__label sk-toggleable__label-arrow\">pipeline-3</label><div class=\"sk-toggleable__content\"><pre>&lt;sklearn.compose._column_transformer.make_column_selector object at 0x7fd35ffc81d0&gt;</pre></div></div></div><div class=\"sk-serial\"><div class=\"sk-item\"><div class=\"sk-serial\"><div class=\"sk-item\"><div class=\"sk-estimator sk-toggleable\"><input class=\"sk-toggleable__control sk-hidden--visually\" id=\"a7ad555d-ead8-4a34-a26c-b02bdc75871c\" type=\"checkbox\" ><label for=\"a7ad555d-ead8-4a34-a26c-b02bdc75871c\" class=\"sk-toggleable__label sk-toggleable__label-arrow\">SimpleImputer</label><div class=\"sk-toggleable__content\"><pre>SimpleImputer()</pre></div></div></div><div class=\"sk-item\"><div class=\"sk-estimator sk-toggleable\"><input class=\"sk-toggleable__control sk-hidden--visually\" id=\"b53b6a79-249d-43d1-813c-cd890f92df35\" type=\"checkbox\" ><label for=\"b53b6a79-249d-43d1-813c-cd890f92df35\" class=\"sk-toggleable__label sk-toggleable__label-arrow\">StandardScaler</label><div class=\"sk-toggleable__content\"><pre>StandardScaler()</pre></div></div></div></div></div></div></div></div><div class=\"sk-parallel-item\"><div class=\"sk-item\"><div class=\"sk-label-container\"><div class=\"sk-label sk-toggleable\"><input class=\"sk-toggleable__control sk-hidden--visually\" id=\"f967690c-32a7-4ef8-ae05-d7bbe3d72014\" type=\"checkbox\" ><label for=\"f967690c-32a7-4ef8-ae05-d7bbe3d72014\" class=\"sk-toggleable__label sk-toggleable__label-arrow\">remainder</label><div class=\"sk-toggleable__content\"><pre>[]</pre></div></div></div><div class=\"sk-serial\"><div class=\"sk-item\"><div class=\"sk-estimator sk-toggleable\"><input class=\"sk-toggleable__control sk-hidden--visually\" id=\"cb416744-63f4-4a74-b4e1-dd3bc9dab227\" type=\"checkbox\" ><label for=\"cb416744-63f4-4a74-b4e1-dd3bc9dab227\" class=\"sk-toggleable__label sk-toggleable__label-arrow\">passthrough</label><div class=\"sk-toggleable__content\"><pre>passthrough</pre></div></div></div></div></div></div></div></div></div></div>"
            ]
          },
          "metadata": {},
          "execution_count": 42
        }
      ]
    },
    {
      "cell_type": "code",
      "source": [
        "X_train_processed = preprocessor.transform(X_train)\n",
        "X_test_processed = preprocessor.transform(X_test)\n",
        "\n",
        "X_train_processed"
      ],
      "metadata": {
        "colab": {
          "base_uri": "https://localhost:8080/"
        },
        "id": "5hnHq43Gk6VO",
        "outputId": "c70e2afe-d960-49f2-bd8e-0b8524a93a95"
      },
      "execution_count": 43,
      "outputs": [
        {
          "output_type": "execute_result",
          "data": {
            "text/plain": [
              "array([[ 0.7403206 ,  0.28737371,  0.        , ...,  0.81724868,\n",
              "        -0.71277507,  1.82810922],\n",
              "       [-1.35076614,  0.28737371,  0.        , ...,  0.5563395 ,\n",
              "        -1.29105225,  0.60336888],\n",
              "       [-1.35076614,  0.28737371,  0.        , ..., -0.13151196,\n",
              "         1.81331864,  0.24454056],\n",
              "       ...,\n",
              "       [ 0.7403206 ,  0.28737371,  0.        , ...,  1.11373638,\n",
              "        -0.92052713,  1.52302674],\n",
              "       [ 0.7403206 ,  0.28737371,  0.        , ...,  1.76600931,\n",
              "        -0.2277552 , -0.38377708],\n",
              "       [ 0.7403206 , -1.38404828,  0.        , ...,  0.81724868,\n",
              "        -0.95867683, -0.73836105]])"
            ]
          },
          "metadata": {},
          "execution_count": 43
        }
      ]
    },
    {
      "cell_type": "code",
      "source": [
        "print(np.isnan(X_train_processed).sum().sum(), 'missing values in training data')\n",
        "print(np.isnan(X_test_processed).sum().sum(), 'missing values in testing data')\n",
        "print('\\n')\n",
        "print('All data in X_train_processed are', X_train_processed.dtype)\n",
        "print('All data in X_test_processed are', X_test_processed.dtype)\n",
        "print('\\n')\n",
        "print('shape of data is', X_train_processed.shape)\n",
        "print('\\n')\n",
        "X_train_processed"
      ],
      "metadata": {
        "colab": {
          "base_uri": "https://localhost:8080/"
        },
        "id": "aHtiWb1ClK05",
        "outputId": "9351e81b-75d3-42ac-cd2a-368094348502"
      },
      "execution_count": 44,
      "outputs": [
        {
          "output_type": "stream",
          "name": "stdout",
          "text": [
            "0 missing values in training data\n",
            "0 missing values in testing data\n",
            "\n",
            "\n",
            "All data in X_train_processed are float64\n",
            "All data in X_test_processed are float64\n",
            "\n",
            "\n",
            "shape of data is (6392, 31)\n",
            "\n",
            "\n"
          ]
        },
        {
          "output_type": "execute_result",
          "data": {
            "text/plain": [
              "array([[ 0.7403206 ,  0.28737371,  0.        , ...,  0.81724868,\n",
              "        -0.71277507,  1.82810922],\n",
              "       [-1.35076614,  0.28737371,  0.        , ...,  0.5563395 ,\n",
              "        -1.29105225,  0.60336888],\n",
              "       [-1.35076614,  0.28737371,  0.        , ..., -0.13151196,\n",
              "         1.81331864,  0.24454056],\n",
              "       ...,\n",
              "       [ 0.7403206 ,  0.28737371,  0.        , ...,  1.11373638,\n",
              "        -0.92052713,  1.52302674],\n",
              "       [ 0.7403206 ,  0.28737371,  0.        , ...,  1.76600931,\n",
              "        -0.2277552 , -0.38377708],\n",
              "       [ 0.7403206 , -1.38404828,  0.        , ...,  0.81724868,\n",
              "        -0.95867683, -0.73836105]])"
            ]
          },
          "metadata": {},
          "execution_count": 44
        }
      ]
    },
    {
      "cell_type": "markdown",
      "source": [
        "#MODELING"
      ],
      "metadata": {
        "id": "gYEXyJbjdCZq"
      }
    },
    {
      "cell_type": "markdown",
      "source": [
        "Machine learning is used to streamline, expedite and enhance the forecasting process by removing repetitive manual procedures. Automating algorithms or programs allow for higher efficiency, deeper insights, and higher profitability. In the Machine Learning section, we use a copy of the unadulterated data as a basis and instructive training tool for our models. Two different models will use this training data to draw inferences and detail elemental relationships between features so that they will be able to interact and perform similar analysis on testing, or unseen, data."
      ],
      "metadata": {
        "id": "qzjqv0yVUok-"
      }
    },
    {
      "cell_type": "markdown",
      "source": [
        "## LINEAR REGRESSION"
      ],
      "metadata": {
        "id": "afW24q1VLPkU"
      }
    },
    {
      "cell_type": "code",
      "source": [
        "# Build a linear regression model.\n",
        "\n",
        "import numpy as np\n",
        "from sklearn.linear_model import LinearRegression\n",
        "from sklearn.metrics import mean_squared_error, mean_absolute_error, r2_score\n",
        "from sklearn.metrics import mean_absolute_error\n",
        "from sklearn.metrics import mean_squared_error\n",
        "from sklearn.dummy import DummyRegressor"
      ],
      "metadata": {
        "id": "-BstTegmdBiK"
      },
      "execution_count": 45,
      "outputs": []
    },
    {
      "cell_type": "code",
      "source": [
        "def model_metrics(y_true, y_pred):\n",
        "  \"\"\"yields / prints MAE, MSE, RMSE and R2 from target prediction\"\"\"\n",
        "  \n",
        "  MAE = mean_absolute_error(y_true, y_pred)\n",
        "  MSE = mean_squared_error(y_true, y_pred)\n",
        "  RMSE = np.sqrt(MSE)\n",
        "  R2 = r2_score(y_true, y_pred)\n",
        "\n",
        "  print(f'SCORES:\\n \\nMAE: {MAE:,.2f} \\nMSE: {MSE:,.2f} \\nRMSE: {RMSE:,.2f} \\nR2: {R2:.2f}\\n')"
      ],
      "metadata": {
        "id": "I7QtnOTK1vUo"
      },
      "execution_count": 46,
      "outputs": []
    },
    {
      "cell_type": "code",
      "source": [
        "# Baseline Dummy regressor with mean strategy; a reference for our model's performance\n",
        "\n",
        "DR = DummyRegressor(strategy='mean')\n",
        "\n",
        "# Creating baseline pipeline\n",
        "\n",
        "DR_pipe = make_pipeline(preprocessor, DR)\n",
        "DR_pipe.fit(X_train, y_train)\n",
        "\n",
        "# Training prediction arrays \n",
        "\n",
        "train_prediction = DR_pipe.predict(X_train)\n",
        "test_prediction = DR_pipe.predict(X_test)\n",
        "\n",
        "# Evaluation of model \n",
        "\n",
        "model_metrics(y_train, train_prediction)\n",
        "model_metrics(y_test, test_prediction)"
      ],
      "metadata": {
        "colab": {
          "base_uri": "https://localhost:8080/"
        },
        "id": "447XnEZF2o2X",
        "outputId": "67b67abf-0a1e-4dcb-f11b-c5074f1b64e1"
      },
      "execution_count": 47,
      "outputs": [
        {
          "output_type": "stream",
          "name": "stdout",
          "text": [
            "SCORES:\n",
            " \n",
            "MAE: 1,360.22 \n",
            "MSE: 2,959,455.70 \n",
            "RMSE: 1,720.31 \n",
            "R2: 0.00\n",
            "\n",
            "SCORES:\n",
            " \n",
            "MAE: 1,326.12 \n",
            "MSE: 2,772,144.46 \n",
            "RMSE: 1,664.98 \n",
            "R2: -0.00\n",
            "\n"
          ]
        }
      ]
    },
    {
      "cell_type": "code",
      "source": [
        "# Revision of baseline model for use with training data\n",
        "# Linear Regression pipeline \n",
        "\n",
        "LR_PL = make_pipeline(preprocessor, LinearRegression())\n",
        "\n",
        "# Fit of pipeline on the training data\n",
        "\n",
        "LR_PL.fit(X_train, y_train)\n",
        "\n",
        "# Training test score evaluation\n",
        "\n",
        "LR_PL.score(X_train, y_train)"
      ],
      "metadata": {
        "colab": {
          "base_uri": "https://localhost:8080/"
        },
        "id": "jXpClw7KfB7X",
        "outputId": "4e4cd1be-0914-4f04-bc25-74283741b36d"
      },
      "execution_count": 48,
      "outputs": [
        {
          "output_type": "execute_result",
          "data": {
            "text/plain": [
              "0.5606099916390037"
            ]
          },
          "metadata": {},
          "execution_count": 48
        }
      ]
    },
    {
      "cell_type": "code",
      "source": [
        "# Predition arrays for both training and testing data\n",
        "\n",
        "LRtrain_predicted = LR_PL.predict(X_train)\n",
        "LRtest_predicted = LR_PL.predict(X_test)\n",
        "\n",
        "# Evaluation of both training and testing models\n",
        "\n",
        "model_metrics(y_train, LRtrain_predicted)\n",
        "model_metrics(y_test, LRtest_predicted)"
      ],
      "metadata": {
        "colab": {
          "base_uri": "https://localhost:8080/"
        },
        "id": "NvJc_1YNN6SF",
        "outputId": "7317be2d-f18a-4d15-8422-b6ed7b8b0127"
      },
      "execution_count": 49,
      "outputs": [
        {
          "output_type": "stream",
          "name": "stdout",
          "text": [
            "SCORES:\n",
            " \n",
            "MAE: 847.25 \n",
            "MSE: 1,300,355.27 \n",
            "RMSE: 1,140.33 \n",
            "R2: 0.56\n",
            "\n",
            "SCORES:\n",
            " \n",
            "MAE: 805.82 \n",
            "MSE: 1,198,350.37 \n",
            "RMSE: 1,094.69 \n",
            "R2: 0.57\n",
            "\n"
          ]
        }
      ]
    },
    {
      "cell_type": "markdown",
      "source": [
        "## BASIC TREE MODEL"
      ],
      "metadata": {
        "id": "CgBOpJ-mXANx"
      }
    },
    {
      "cell_type": "code",
      "source": [
        "# Creating Basic Tree Model type to see if we can produce a more reliable model:\n",
        "\n",
        "from sklearn.tree import DecisionTreeRegressor\n",
        "from sklearn.tree import plot_tree\n",
        "from sklearn import set_config\n",
        "set_config(display='diagram')\n"
      ],
      "metadata": {
        "id": "4gCXUEt8XHuo"
      },
      "execution_count": 50,
      "outputs": []
    },
    {
      "cell_type": "code",
      "source": [
        "# Creating an instance of the regression tree model\n",
        "\n",
        "DT = DecisionTreeRegressor(random_state = 42)\n",
        "\n",
        "# Creating a pipeline \n",
        "\n",
        "DT_PL = make_pipeline(preprocessor, DT)\n",
        "\n",
        "# Fitting the pipeline on the training data\n",
        "\n",
        "DT_PL.fit(X_train, y_train)\n",
        "\n",
        "# Creating prediction arrays\n",
        "\n",
        "DTtrain_predicted = DT_PL.predict(X_train)\n",
        "DTtest_predicted = DT_PL.predict(X_test)\n",
        "\n",
        "# Evaluating the training and test models\n",
        "\n",
        "model_metrics(y_train, DTtrain_predicted)\n",
        "model_metrics(y_test, DTtest_predicted)"
      ],
      "metadata": {
        "colab": {
          "base_uri": "https://localhost:8080/"
        },
        "id": "YusNQxKG4qvk",
        "outputId": "098f9599-bdd6-465a-9dfe-01dde59c022f"
      },
      "execution_count": 51,
      "outputs": [
        {
          "output_type": "stream",
          "name": "stdout",
          "text": [
            "SCORES:\n",
            " \n",
            "MAE: 0.00 \n",
            "MSE: 0.00 \n",
            "RMSE: 0.00 \n",
            "R2: 1.00\n",
            "\n",
            "SCORES:\n",
            " \n",
            "MAE: 1,080.61 \n",
            "MSE: 2,488,043.62 \n",
            "RMSE: 1,577.35 \n",
            "R2: 0.10\n",
            "\n"
          ]
        }
      ]
    },
    {
      "cell_type": "code",
      "source": [
        "# Checking the default depth of the Regression Tree\n",
        "\n",
        "DT.get_depth()"
      ],
      "metadata": {
        "colab": {
          "base_uri": "https://localhost:8080/"
        },
        "id": "Z0370Q7342NP",
        "outputId": "2e7c4f80-b113-4b44-f4fb-855be19bd616"
      },
      "execution_count": 52,
      "outputs": [
        {
          "output_type": "execute_result",
          "data": {
            "text/plain": [
              "42"
            ]
          },
          "metadata": {},
          "execution_count": 52
        }
      ]
    },
    {
      "cell_type": "code",
      "source": [
        "# Finding the optimal depth\n",
        "\n",
        "depths = range(1, DT.get_depth()+1)\n",
        "scores = pd.DataFrame(columns=['Train', 'Test'], index=depths)\n",
        "\n",
        "# Loop over values in depths to product list of all depths\n",
        "\n",
        "for depth in depths:\n",
        "  DTR = DecisionTreeRegressor(max_depth=depth)\n",
        "  DTR_PL = make_pipeline(preprocessor, DTR)\n",
        "  DTR_PL.fit(X_train, y_train)\n",
        "\n",
        "# Predition Arrays\n",
        "  DTRtrain__prediction = DTR_PL.predict(X_train)\n",
        "  DTRtest__prediction = DTR_PL.predict(X_test)\n",
        "\n",
        "# Evaluating the model\n",
        "  R2_train = r2_score(y_train, DTRtrain__prediction)\n",
        "  R2_test = r2_score(y_test, DTRtest__prediction)\n",
        "\n",
        "# Add R2 scores to new Data Frame\n",
        "  scores.loc[depth, 'Train'] = R2_train\n",
        "  scores.loc[depth, 'Test'] = R2_test\n",
        "\n",
        "  scores"
      ],
      "metadata": {
        "id": "g5JSl_zT7M0X"
      },
      "execution_count": 53,
      "outputs": []
    },
    {
      "cell_type": "code",
      "source": [
        "scores"
      ],
      "metadata": {
        "id": "Y_h7Ye438QHW",
        "colab": {
          "base_uri": "https://localhost:8080/",
          "height": 1000
        },
        "outputId": "61a7e658-9768-40b7-fff4-2c243fc5bd34"
      },
      "execution_count": 54,
      "outputs": [
        {
          "output_type": "execute_result",
          "data": {
            "text/plain": [
              "       Train      Test\n",
              "1   0.237797  0.229683\n",
              "2   0.431641  0.433778\n",
              "3   0.524218  0.524222\n",
              "4   0.582625  0.584005\n",
              "5    0.60394   0.59471\n",
              "6   0.615072  0.582408\n",
              "7   0.626453   0.57887\n",
              "8   0.642724  0.564035\n",
              "9   0.663609  0.553458\n",
              "10  0.684022  0.531442\n",
              "11  0.709412  0.501078\n",
              "12  0.734047  0.477848\n",
              "13   0.76274  0.443502\n",
              "14  0.788955  0.414913\n",
              "15  0.817483   0.37058\n",
              "16  0.843945  0.329534\n",
              "17    0.8683  0.284895\n",
              "18  0.892511  0.245644\n",
              "19  0.913326  0.236688\n",
              "20  0.932222  0.191159\n",
              "21  0.948457  0.191297\n",
              "22  0.962652  0.152238\n",
              "23  0.972072  0.153532\n",
              "24  0.979947  0.131239\n",
              "25   0.98514  0.132193\n",
              "26  0.989057  0.110724\n",
              "27  0.992369  0.108606\n",
              "28  0.994394  0.121136\n",
              "29  0.995921  0.124291\n",
              "30   0.99716  0.129256\n",
              "31  0.998208  0.124246\n",
              "32   0.99874  0.124597\n",
              "33  0.999009  0.135412\n",
              "34   0.99927  0.098589\n",
              "35  0.999458  0.095885\n",
              "36  0.999575  0.110768\n",
              "37  0.999708  0.129237\n",
              "38  0.999895  0.122412\n",
              "39  0.999958  0.139709\n",
              "40  0.999991  0.132746\n",
              "41       1.0   0.10237\n",
              "42       1.0  0.122117"
            ],
            "text/html": [
              "\n",
              "  <div id=\"df-1caf95ab-0bd2-4906-8562-895b16c7ff0c\">\n",
              "    <div class=\"colab-df-container\">\n",
              "      <div>\n",
              "<style scoped>\n",
              "    .dataframe tbody tr th:only-of-type {\n",
              "        vertical-align: middle;\n",
              "    }\n",
              "\n",
              "    .dataframe tbody tr th {\n",
              "        vertical-align: top;\n",
              "    }\n",
              "\n",
              "    .dataframe thead th {\n",
              "        text-align: right;\n",
              "    }\n",
              "</style>\n",
              "<table border=\"1\" class=\"dataframe\">\n",
              "  <thead>\n",
              "    <tr style=\"text-align: right;\">\n",
              "      <th></th>\n",
              "      <th>Train</th>\n",
              "      <th>Test</th>\n",
              "    </tr>\n",
              "  </thead>\n",
              "  <tbody>\n",
              "    <tr>\n",
              "      <th>1</th>\n",
              "      <td>0.237797</td>\n",
              "      <td>0.229683</td>\n",
              "    </tr>\n",
              "    <tr>\n",
              "      <th>2</th>\n",
              "      <td>0.431641</td>\n",
              "      <td>0.433778</td>\n",
              "    </tr>\n",
              "    <tr>\n",
              "      <th>3</th>\n",
              "      <td>0.524218</td>\n",
              "      <td>0.524222</td>\n",
              "    </tr>\n",
              "    <tr>\n",
              "      <th>4</th>\n",
              "      <td>0.582625</td>\n",
              "      <td>0.584005</td>\n",
              "    </tr>\n",
              "    <tr>\n",
              "      <th>5</th>\n",
              "      <td>0.60394</td>\n",
              "      <td>0.59471</td>\n",
              "    </tr>\n",
              "    <tr>\n",
              "      <th>6</th>\n",
              "      <td>0.615072</td>\n",
              "      <td>0.582408</td>\n",
              "    </tr>\n",
              "    <tr>\n",
              "      <th>7</th>\n",
              "      <td>0.626453</td>\n",
              "      <td>0.57887</td>\n",
              "    </tr>\n",
              "    <tr>\n",
              "      <th>8</th>\n",
              "      <td>0.642724</td>\n",
              "      <td>0.564035</td>\n",
              "    </tr>\n",
              "    <tr>\n",
              "      <th>9</th>\n",
              "      <td>0.663609</td>\n",
              "      <td>0.553458</td>\n",
              "    </tr>\n",
              "    <tr>\n",
              "      <th>10</th>\n",
              "      <td>0.684022</td>\n",
              "      <td>0.531442</td>\n",
              "    </tr>\n",
              "    <tr>\n",
              "      <th>11</th>\n",
              "      <td>0.709412</td>\n",
              "      <td>0.501078</td>\n",
              "    </tr>\n",
              "    <tr>\n",
              "      <th>12</th>\n",
              "      <td>0.734047</td>\n",
              "      <td>0.477848</td>\n",
              "    </tr>\n",
              "    <tr>\n",
              "      <th>13</th>\n",
              "      <td>0.76274</td>\n",
              "      <td>0.443502</td>\n",
              "    </tr>\n",
              "    <tr>\n",
              "      <th>14</th>\n",
              "      <td>0.788955</td>\n",
              "      <td>0.414913</td>\n",
              "    </tr>\n",
              "    <tr>\n",
              "      <th>15</th>\n",
              "      <td>0.817483</td>\n",
              "      <td>0.37058</td>\n",
              "    </tr>\n",
              "    <tr>\n",
              "      <th>16</th>\n",
              "      <td>0.843945</td>\n",
              "      <td>0.329534</td>\n",
              "    </tr>\n",
              "    <tr>\n",
              "      <th>17</th>\n",
              "      <td>0.8683</td>\n",
              "      <td>0.284895</td>\n",
              "    </tr>\n",
              "    <tr>\n",
              "      <th>18</th>\n",
              "      <td>0.892511</td>\n",
              "      <td>0.245644</td>\n",
              "    </tr>\n",
              "    <tr>\n",
              "      <th>19</th>\n",
              "      <td>0.913326</td>\n",
              "      <td>0.236688</td>\n",
              "    </tr>\n",
              "    <tr>\n",
              "      <th>20</th>\n",
              "      <td>0.932222</td>\n",
              "      <td>0.191159</td>\n",
              "    </tr>\n",
              "    <tr>\n",
              "      <th>21</th>\n",
              "      <td>0.948457</td>\n",
              "      <td>0.191297</td>\n",
              "    </tr>\n",
              "    <tr>\n",
              "      <th>22</th>\n",
              "      <td>0.962652</td>\n",
              "      <td>0.152238</td>\n",
              "    </tr>\n",
              "    <tr>\n",
              "      <th>23</th>\n",
              "      <td>0.972072</td>\n",
              "      <td>0.153532</td>\n",
              "    </tr>\n",
              "    <tr>\n",
              "      <th>24</th>\n",
              "      <td>0.979947</td>\n",
              "      <td>0.131239</td>\n",
              "    </tr>\n",
              "    <tr>\n",
              "      <th>25</th>\n",
              "      <td>0.98514</td>\n",
              "      <td>0.132193</td>\n",
              "    </tr>\n",
              "    <tr>\n",
              "      <th>26</th>\n",
              "      <td>0.989057</td>\n",
              "      <td>0.110724</td>\n",
              "    </tr>\n",
              "    <tr>\n",
              "      <th>27</th>\n",
              "      <td>0.992369</td>\n",
              "      <td>0.108606</td>\n",
              "    </tr>\n",
              "    <tr>\n",
              "      <th>28</th>\n",
              "      <td>0.994394</td>\n",
              "      <td>0.121136</td>\n",
              "    </tr>\n",
              "    <tr>\n",
              "      <th>29</th>\n",
              "      <td>0.995921</td>\n",
              "      <td>0.124291</td>\n",
              "    </tr>\n",
              "    <tr>\n",
              "      <th>30</th>\n",
              "      <td>0.99716</td>\n",
              "      <td>0.129256</td>\n",
              "    </tr>\n",
              "    <tr>\n",
              "      <th>31</th>\n",
              "      <td>0.998208</td>\n",
              "      <td>0.124246</td>\n",
              "    </tr>\n",
              "    <tr>\n",
              "      <th>32</th>\n",
              "      <td>0.99874</td>\n",
              "      <td>0.124597</td>\n",
              "    </tr>\n",
              "    <tr>\n",
              "      <th>33</th>\n",
              "      <td>0.999009</td>\n",
              "      <td>0.135412</td>\n",
              "    </tr>\n",
              "    <tr>\n",
              "      <th>34</th>\n",
              "      <td>0.99927</td>\n",
              "      <td>0.098589</td>\n",
              "    </tr>\n",
              "    <tr>\n",
              "      <th>35</th>\n",
              "      <td>0.999458</td>\n",
              "      <td>0.095885</td>\n",
              "    </tr>\n",
              "    <tr>\n",
              "      <th>36</th>\n",
              "      <td>0.999575</td>\n",
              "      <td>0.110768</td>\n",
              "    </tr>\n",
              "    <tr>\n",
              "      <th>37</th>\n",
              "      <td>0.999708</td>\n",
              "      <td>0.129237</td>\n",
              "    </tr>\n",
              "    <tr>\n",
              "      <th>38</th>\n",
              "      <td>0.999895</td>\n",
              "      <td>0.122412</td>\n",
              "    </tr>\n",
              "    <tr>\n",
              "      <th>39</th>\n",
              "      <td>0.999958</td>\n",
              "      <td>0.139709</td>\n",
              "    </tr>\n",
              "    <tr>\n",
              "      <th>40</th>\n",
              "      <td>0.999991</td>\n",
              "      <td>0.132746</td>\n",
              "    </tr>\n",
              "    <tr>\n",
              "      <th>41</th>\n",
              "      <td>1.0</td>\n",
              "      <td>0.10237</td>\n",
              "    </tr>\n",
              "    <tr>\n",
              "      <th>42</th>\n",
              "      <td>1.0</td>\n",
              "      <td>0.122117</td>\n",
              "    </tr>\n",
              "  </tbody>\n",
              "</table>\n",
              "</div>\n",
              "      <button class=\"colab-df-convert\" onclick=\"convertToInteractive('df-1caf95ab-0bd2-4906-8562-895b16c7ff0c')\"\n",
              "              title=\"Convert this dataframe to an interactive table.\"\n",
              "              style=\"display:none;\">\n",
              "        \n",
              "  <svg xmlns=\"http://www.w3.org/2000/svg\" height=\"24px\"viewBox=\"0 0 24 24\"\n",
              "       width=\"24px\">\n",
              "    <path d=\"M0 0h24v24H0V0z\" fill=\"none\"/>\n",
              "    <path d=\"M18.56 5.44l.94 2.06.94-2.06 2.06-.94-2.06-.94-.94-2.06-.94 2.06-2.06.94zm-11 1L8.5 8.5l.94-2.06 2.06-.94-2.06-.94L8.5 2.5l-.94 2.06-2.06.94zm10 10l.94 2.06.94-2.06 2.06-.94-2.06-.94-.94-2.06-.94 2.06-2.06.94z\"/><path d=\"M17.41 7.96l-1.37-1.37c-.4-.4-.92-.59-1.43-.59-.52 0-1.04.2-1.43.59L10.3 9.45l-7.72 7.72c-.78.78-.78 2.05 0 2.83L4 21.41c.39.39.9.59 1.41.59.51 0 1.02-.2 1.41-.59l7.78-7.78 2.81-2.81c.8-.78.8-2.07 0-2.86zM5.41 20L4 18.59l7.72-7.72 1.47 1.35L5.41 20z\"/>\n",
              "  </svg>\n",
              "      </button>\n",
              "      \n",
              "  <style>\n",
              "    .colab-df-container {\n",
              "      display:flex;\n",
              "      flex-wrap:wrap;\n",
              "      gap: 12px;\n",
              "    }\n",
              "\n",
              "    .colab-df-convert {\n",
              "      background-color: #E8F0FE;\n",
              "      border: none;\n",
              "      border-radius: 50%;\n",
              "      cursor: pointer;\n",
              "      display: none;\n",
              "      fill: #1967D2;\n",
              "      height: 32px;\n",
              "      padding: 0 0 0 0;\n",
              "      width: 32px;\n",
              "    }\n",
              "\n",
              "    .colab-df-convert:hover {\n",
              "      background-color: #E2EBFA;\n",
              "      box-shadow: 0px 1px 2px rgba(60, 64, 67, 0.3), 0px 1px 3px 1px rgba(60, 64, 67, 0.15);\n",
              "      fill: #174EA6;\n",
              "    }\n",
              "\n",
              "    [theme=dark] .colab-df-convert {\n",
              "      background-color: #3B4455;\n",
              "      fill: #D2E3FC;\n",
              "    }\n",
              "\n",
              "    [theme=dark] .colab-df-convert:hover {\n",
              "      background-color: #434B5C;\n",
              "      box-shadow: 0px 1px 3px 1px rgba(0, 0, 0, 0.15);\n",
              "      filter: drop-shadow(0px 1px 2px rgba(0, 0, 0, 0.3));\n",
              "      fill: #FFFFFF;\n",
              "    }\n",
              "  </style>\n",
              "\n",
              "      <script>\n",
              "        const buttonEl =\n",
              "          document.querySelector('#df-1caf95ab-0bd2-4906-8562-895b16c7ff0c button.colab-df-convert');\n",
              "        buttonEl.style.display =\n",
              "          google.colab.kernel.accessAllowed ? 'block' : 'none';\n",
              "\n",
              "        async function convertToInteractive(key) {\n",
              "          const element = document.querySelector('#df-1caf95ab-0bd2-4906-8562-895b16c7ff0c');\n",
              "          const dataTable =\n",
              "            await google.colab.kernel.invokeFunction('convertToInteractive',\n",
              "                                                     [key], {});\n",
              "          if (!dataTable) return;\n",
              "\n",
              "          const docLinkHtml = 'Like what you see? Visit the ' +\n",
              "            '<a target=\"_blank\" href=https://colab.research.google.com/notebooks/data_table.ipynb>data table notebook</a>'\n",
              "            + ' to learn more about interactive tables.';\n",
              "          element.innerHTML = '';\n",
              "          dataTable['output_type'] = 'display_data';\n",
              "          await google.colab.output.renderOutput(dataTable, element);\n",
              "          const docLink = document.createElement('div');\n",
              "          docLink.innerHTML = docLinkHtml;\n",
              "          element.appendChild(docLink);\n",
              "        }\n",
              "      </script>\n",
              "    </div>\n",
              "  </div>\n",
              "  "
            ]
          },
          "metadata": {},
          "execution_count": 54
        }
      ]
    },
    {
      "cell_type": "code",
      "source": [
        "# Sort the new dataframe by test scores (R2) in order from highest to lowest\n",
        "\n",
        "optimal_depth = scores.sort_values(by='Test', ascending=False)\n",
        "optimal_depth "
      ],
      "metadata": {
        "colab": {
          "base_uri": "https://localhost:8080/",
          "height": 1000
        },
        "id": "dsUpRDeFuV9U",
        "outputId": "5942f7e1-179d-4721-da48-4a4aae663acd"
      },
      "execution_count": 55,
      "outputs": [
        {
          "output_type": "execute_result",
          "data": {
            "text/plain": [
              "       Train      Test\n",
              "5    0.60394   0.59471\n",
              "4   0.582625  0.584005\n",
              "6   0.615072  0.582408\n",
              "7   0.626453   0.57887\n",
              "8   0.642724  0.564035\n",
              "9   0.663609  0.553458\n",
              "10  0.684022  0.531442\n",
              "3   0.524218  0.524222\n",
              "11  0.709412  0.501078\n",
              "12  0.734047  0.477848\n",
              "13   0.76274  0.443502\n",
              "2   0.431641  0.433778\n",
              "14  0.788955  0.414913\n",
              "15  0.817483   0.37058\n",
              "16  0.843945  0.329534\n",
              "17    0.8683  0.284895\n",
              "18  0.892511  0.245644\n",
              "19  0.913326  0.236688\n",
              "1   0.237797  0.229683\n",
              "21  0.948457  0.191297\n",
              "20  0.932222  0.191159\n",
              "23  0.972072  0.153532\n",
              "22  0.962652  0.152238\n",
              "39  0.999958  0.139709\n",
              "33  0.999009  0.135412\n",
              "40  0.999991  0.132746\n",
              "25   0.98514  0.132193\n",
              "24  0.979947  0.131239\n",
              "30   0.99716  0.129256\n",
              "37  0.999708  0.129237\n",
              "32   0.99874  0.124597\n",
              "29  0.995921  0.124291\n",
              "31  0.998208  0.124246\n",
              "38  0.999895  0.122412\n",
              "42       1.0  0.122117\n",
              "28  0.994394  0.121136\n",
              "36  0.999575  0.110768\n",
              "26  0.989057  0.110724\n",
              "27  0.992369  0.108606\n",
              "41       1.0   0.10237\n",
              "34   0.99927  0.098589\n",
              "35  0.999458  0.095885"
            ],
            "text/html": [
              "\n",
              "  <div id=\"df-dfb28e93-9a06-4dde-8fb9-b714c4e8d4fb\">\n",
              "    <div class=\"colab-df-container\">\n",
              "      <div>\n",
              "<style scoped>\n",
              "    .dataframe tbody tr th:only-of-type {\n",
              "        vertical-align: middle;\n",
              "    }\n",
              "\n",
              "    .dataframe tbody tr th {\n",
              "        vertical-align: top;\n",
              "    }\n",
              "\n",
              "    .dataframe thead th {\n",
              "        text-align: right;\n",
              "    }\n",
              "</style>\n",
              "<table border=\"1\" class=\"dataframe\">\n",
              "  <thead>\n",
              "    <tr style=\"text-align: right;\">\n",
              "      <th></th>\n",
              "      <th>Train</th>\n",
              "      <th>Test</th>\n",
              "    </tr>\n",
              "  </thead>\n",
              "  <tbody>\n",
              "    <tr>\n",
              "      <th>5</th>\n",
              "      <td>0.60394</td>\n",
              "      <td>0.59471</td>\n",
              "    </tr>\n",
              "    <tr>\n",
              "      <th>4</th>\n",
              "      <td>0.582625</td>\n",
              "      <td>0.584005</td>\n",
              "    </tr>\n",
              "    <tr>\n",
              "      <th>6</th>\n",
              "      <td>0.615072</td>\n",
              "      <td>0.582408</td>\n",
              "    </tr>\n",
              "    <tr>\n",
              "      <th>7</th>\n",
              "      <td>0.626453</td>\n",
              "      <td>0.57887</td>\n",
              "    </tr>\n",
              "    <tr>\n",
              "      <th>8</th>\n",
              "      <td>0.642724</td>\n",
              "      <td>0.564035</td>\n",
              "    </tr>\n",
              "    <tr>\n",
              "      <th>9</th>\n",
              "      <td>0.663609</td>\n",
              "      <td>0.553458</td>\n",
              "    </tr>\n",
              "    <tr>\n",
              "      <th>10</th>\n",
              "      <td>0.684022</td>\n",
              "      <td>0.531442</td>\n",
              "    </tr>\n",
              "    <tr>\n",
              "      <th>3</th>\n",
              "      <td>0.524218</td>\n",
              "      <td>0.524222</td>\n",
              "    </tr>\n",
              "    <tr>\n",
              "      <th>11</th>\n",
              "      <td>0.709412</td>\n",
              "      <td>0.501078</td>\n",
              "    </tr>\n",
              "    <tr>\n",
              "      <th>12</th>\n",
              "      <td>0.734047</td>\n",
              "      <td>0.477848</td>\n",
              "    </tr>\n",
              "    <tr>\n",
              "      <th>13</th>\n",
              "      <td>0.76274</td>\n",
              "      <td>0.443502</td>\n",
              "    </tr>\n",
              "    <tr>\n",
              "      <th>2</th>\n",
              "      <td>0.431641</td>\n",
              "      <td>0.433778</td>\n",
              "    </tr>\n",
              "    <tr>\n",
              "      <th>14</th>\n",
              "      <td>0.788955</td>\n",
              "      <td>0.414913</td>\n",
              "    </tr>\n",
              "    <tr>\n",
              "      <th>15</th>\n",
              "      <td>0.817483</td>\n",
              "      <td>0.37058</td>\n",
              "    </tr>\n",
              "    <tr>\n",
              "      <th>16</th>\n",
              "      <td>0.843945</td>\n",
              "      <td>0.329534</td>\n",
              "    </tr>\n",
              "    <tr>\n",
              "      <th>17</th>\n",
              "      <td>0.8683</td>\n",
              "      <td>0.284895</td>\n",
              "    </tr>\n",
              "    <tr>\n",
              "      <th>18</th>\n",
              "      <td>0.892511</td>\n",
              "      <td>0.245644</td>\n",
              "    </tr>\n",
              "    <tr>\n",
              "      <th>19</th>\n",
              "      <td>0.913326</td>\n",
              "      <td>0.236688</td>\n",
              "    </tr>\n",
              "    <tr>\n",
              "      <th>1</th>\n",
              "      <td>0.237797</td>\n",
              "      <td>0.229683</td>\n",
              "    </tr>\n",
              "    <tr>\n",
              "      <th>21</th>\n",
              "      <td>0.948457</td>\n",
              "      <td>0.191297</td>\n",
              "    </tr>\n",
              "    <tr>\n",
              "      <th>20</th>\n",
              "      <td>0.932222</td>\n",
              "      <td>0.191159</td>\n",
              "    </tr>\n",
              "    <tr>\n",
              "      <th>23</th>\n",
              "      <td>0.972072</td>\n",
              "      <td>0.153532</td>\n",
              "    </tr>\n",
              "    <tr>\n",
              "      <th>22</th>\n",
              "      <td>0.962652</td>\n",
              "      <td>0.152238</td>\n",
              "    </tr>\n",
              "    <tr>\n",
              "      <th>39</th>\n",
              "      <td>0.999958</td>\n",
              "      <td>0.139709</td>\n",
              "    </tr>\n",
              "    <tr>\n",
              "      <th>33</th>\n",
              "      <td>0.999009</td>\n",
              "      <td>0.135412</td>\n",
              "    </tr>\n",
              "    <tr>\n",
              "      <th>40</th>\n",
              "      <td>0.999991</td>\n",
              "      <td>0.132746</td>\n",
              "    </tr>\n",
              "    <tr>\n",
              "      <th>25</th>\n",
              "      <td>0.98514</td>\n",
              "      <td>0.132193</td>\n",
              "    </tr>\n",
              "    <tr>\n",
              "      <th>24</th>\n",
              "      <td>0.979947</td>\n",
              "      <td>0.131239</td>\n",
              "    </tr>\n",
              "    <tr>\n",
              "      <th>30</th>\n",
              "      <td>0.99716</td>\n",
              "      <td>0.129256</td>\n",
              "    </tr>\n",
              "    <tr>\n",
              "      <th>37</th>\n",
              "      <td>0.999708</td>\n",
              "      <td>0.129237</td>\n",
              "    </tr>\n",
              "    <tr>\n",
              "      <th>32</th>\n",
              "      <td>0.99874</td>\n",
              "      <td>0.124597</td>\n",
              "    </tr>\n",
              "    <tr>\n",
              "      <th>29</th>\n",
              "      <td>0.995921</td>\n",
              "      <td>0.124291</td>\n",
              "    </tr>\n",
              "    <tr>\n",
              "      <th>31</th>\n",
              "      <td>0.998208</td>\n",
              "      <td>0.124246</td>\n",
              "    </tr>\n",
              "    <tr>\n",
              "      <th>38</th>\n",
              "      <td>0.999895</td>\n",
              "      <td>0.122412</td>\n",
              "    </tr>\n",
              "    <tr>\n",
              "      <th>42</th>\n",
              "      <td>1.0</td>\n",
              "      <td>0.122117</td>\n",
              "    </tr>\n",
              "    <tr>\n",
              "      <th>28</th>\n",
              "      <td>0.994394</td>\n",
              "      <td>0.121136</td>\n",
              "    </tr>\n",
              "    <tr>\n",
              "      <th>36</th>\n",
              "      <td>0.999575</td>\n",
              "      <td>0.110768</td>\n",
              "    </tr>\n",
              "    <tr>\n",
              "      <th>26</th>\n",
              "      <td>0.989057</td>\n",
              "      <td>0.110724</td>\n",
              "    </tr>\n",
              "    <tr>\n",
              "      <th>27</th>\n",
              "      <td>0.992369</td>\n",
              "      <td>0.108606</td>\n",
              "    </tr>\n",
              "    <tr>\n",
              "      <th>41</th>\n",
              "      <td>1.0</td>\n",
              "      <td>0.10237</td>\n",
              "    </tr>\n",
              "    <tr>\n",
              "      <th>34</th>\n",
              "      <td>0.99927</td>\n",
              "      <td>0.098589</td>\n",
              "    </tr>\n",
              "    <tr>\n",
              "      <th>35</th>\n",
              "      <td>0.999458</td>\n",
              "      <td>0.095885</td>\n",
              "    </tr>\n",
              "  </tbody>\n",
              "</table>\n",
              "</div>\n",
              "      <button class=\"colab-df-convert\" onclick=\"convertToInteractive('df-dfb28e93-9a06-4dde-8fb9-b714c4e8d4fb')\"\n",
              "              title=\"Convert this dataframe to an interactive table.\"\n",
              "              style=\"display:none;\">\n",
              "        \n",
              "  <svg xmlns=\"http://www.w3.org/2000/svg\" height=\"24px\"viewBox=\"0 0 24 24\"\n",
              "       width=\"24px\">\n",
              "    <path d=\"M0 0h24v24H0V0z\" fill=\"none\"/>\n",
              "    <path d=\"M18.56 5.44l.94 2.06.94-2.06 2.06-.94-2.06-.94-.94-2.06-.94 2.06-2.06.94zm-11 1L8.5 8.5l.94-2.06 2.06-.94-2.06-.94L8.5 2.5l-.94 2.06-2.06.94zm10 10l.94 2.06.94-2.06 2.06-.94-2.06-.94-.94-2.06-.94 2.06-2.06.94z\"/><path d=\"M17.41 7.96l-1.37-1.37c-.4-.4-.92-.59-1.43-.59-.52 0-1.04.2-1.43.59L10.3 9.45l-7.72 7.72c-.78.78-.78 2.05 0 2.83L4 21.41c.39.39.9.59 1.41.59.51 0 1.02-.2 1.41-.59l7.78-7.78 2.81-2.81c.8-.78.8-2.07 0-2.86zM5.41 20L4 18.59l7.72-7.72 1.47 1.35L5.41 20z\"/>\n",
              "  </svg>\n",
              "      </button>\n",
              "      \n",
              "  <style>\n",
              "    .colab-df-container {\n",
              "      display:flex;\n",
              "      flex-wrap:wrap;\n",
              "      gap: 12px;\n",
              "    }\n",
              "\n",
              "    .colab-df-convert {\n",
              "      background-color: #E8F0FE;\n",
              "      border: none;\n",
              "      border-radius: 50%;\n",
              "      cursor: pointer;\n",
              "      display: none;\n",
              "      fill: #1967D2;\n",
              "      height: 32px;\n",
              "      padding: 0 0 0 0;\n",
              "      width: 32px;\n",
              "    }\n",
              "\n",
              "    .colab-df-convert:hover {\n",
              "      background-color: #E2EBFA;\n",
              "      box-shadow: 0px 1px 2px rgba(60, 64, 67, 0.3), 0px 1px 3px 1px rgba(60, 64, 67, 0.15);\n",
              "      fill: #174EA6;\n",
              "    }\n",
              "\n",
              "    [theme=dark] .colab-df-convert {\n",
              "      background-color: #3B4455;\n",
              "      fill: #D2E3FC;\n",
              "    }\n",
              "\n",
              "    [theme=dark] .colab-df-convert:hover {\n",
              "      background-color: #434B5C;\n",
              "      box-shadow: 0px 1px 3px 1px rgba(0, 0, 0, 0.15);\n",
              "      filter: drop-shadow(0px 1px 2px rgba(0, 0, 0, 0.3));\n",
              "      fill: #FFFFFF;\n",
              "    }\n",
              "  </style>\n",
              "\n",
              "      <script>\n",
              "        const buttonEl =\n",
              "          document.querySelector('#df-dfb28e93-9a06-4dde-8fb9-b714c4e8d4fb button.colab-df-convert');\n",
              "        buttonEl.style.display =\n",
              "          google.colab.kernel.accessAllowed ? 'block' : 'none';\n",
              "\n",
              "        async function convertToInteractive(key) {\n",
              "          const element = document.querySelector('#df-dfb28e93-9a06-4dde-8fb9-b714c4e8d4fb');\n",
              "          const dataTable =\n",
              "            await google.colab.kernel.invokeFunction('convertToInteractive',\n",
              "                                                     [key], {});\n",
              "          if (!dataTable) return;\n",
              "\n",
              "          const docLinkHtml = 'Like what you see? Visit the ' +\n",
              "            '<a target=\"_blank\" href=https://colab.research.google.com/notebooks/data_table.ipynb>data table notebook</a>'\n",
              "            + ' to learn more about interactive tables.';\n",
              "          element.innerHTML = '';\n",
              "          dataTable['output_type'] = 'display_data';\n",
              "          await google.colab.output.renderOutput(dataTable, element);\n",
              "          const docLink = document.createElement('div');\n",
              "          docLink.innerHTML = docLinkHtml;\n",
              "          element.appendChild(docLink);\n",
              "        }\n",
              "      </script>\n",
              "    </div>\n",
              "  </div>\n",
              "  "
            ]
          },
          "metadata": {},
          "execution_count": 55
        }
      ]
    },
    {
      "cell_type": "code",
      "source": [
        "# Indexing the highest test score\n",
        "\n",
        "optimal_depth.index[0]"
      ],
      "metadata": {
        "colab": {
          "base_uri": "https://localhost:8080/"
        },
        "id": "rhLx9O3uu3Xw",
        "outputId": "f7c60cb6-c18e-41a8-9e5a-ccbab55c3dd7"
      },
      "execution_count": 56,
      "outputs": [
        {
          "output_type": "execute_result",
          "data": {
            "text/plain": [
              "5"
            ]
          },
          "metadata": {},
          "execution_count": 56
        }
      ]
    },
    {
      "cell_type": "code",
      "source": [
        "# Creating an instance of the new model with an optimal max depth \n",
        "\n",
        "DTopt = DecisionTreeRegressor(max_depth = 5,random_state = 42)\n",
        "\n",
        "# Creating a pipeline \n",
        "\n",
        "DTopt_PL = make_pipeline(preprocessor, DTopt)\n",
        "\n",
        "# Fitting the pipeline on the training data\n",
        "\n",
        "DTopt_PL.fit(X_train, y_train)\n",
        "\n",
        "# Creating prediction arrays\n",
        "\n",
        "DTopt_train_predicted = DTopt_PL.predict(X_train)\n",
        "DTopt_test_predicted = DTopt_PL.predict(X_test)\n",
        "\n",
        "# Evaluating the training and test models\n",
        "\n",
        "model_metrics(y_train, DTopt_train_predicted)\n",
        "model_metrics(y_test, DTopt_test_predicted)"
      ],
      "metadata": {
        "colab": {
          "base_uri": "https://localhost:8080/"
        },
        "id": "zYoDXzAivs4y",
        "outputId": "5b255e67-eae7-477b-b8c9-48940fd32839"
      },
      "execution_count": 57,
      "outputs": [
        {
          "output_type": "stream",
          "name": "stdout",
          "text": [
            "SCORES:\n",
            " \n",
            "MAE: 762.61 \n",
            "MSE: 1,172,122.77 \n",
            "RMSE: 1,082.65 \n",
            "R2: 0.60\n",
            "\n",
            "SCORES:\n",
            " \n",
            "MAE: 738.32 \n",
            "MSE: 1,118,185.97 \n",
            "RMSE: 1,057.44 \n",
            "R2: 0.59\n",
            "\n"
          ]
        }
      ]
    },
    {
      "cell_type": "code",
      "source": [
        "# A look at this model's features:\n",
        "\n",
        "DTopt.get_params()\n",
        "\n",
        "DTopt.get_n_leaves()\n",
        "\n",
        "# This model has 32 leaves or terminal nodes. \n",
        "# Each node contains a final prediction from the model"
      ],
      "metadata": {
        "colab": {
          "base_uri": "https://localhost:8080/"
        },
        "id": "f31_KIK60NXj",
        "outputId": "a0a4f2ad-4883-4429-cff8-27d4566384df"
      },
      "execution_count": 58,
      "outputs": [
        {
          "output_type": "execute_result",
          "data": {
            "text/plain": [
              "32"
            ]
          },
          "metadata": {},
          "execution_count": 58
        }
      ]
    },
    {
      "cell_type": "code",
      "source": [
        "# Plotting the Basic Tree\n",
        "\n",
        "plt.figure(figsize = (16, 16))\n",
        "plot_tree(DTopt);\n"
      ],
      "metadata": {
        "colab": {
          "base_uri": "https://localhost:8080/",
          "height": 901
        },
        "id": "gyODFTmaztEZ",
        "outputId": "53bd8e07-6d99-470d-867a-818844c7d54c"
      },
      "execution_count": 59,
      "outputs": [
        {
          "output_type": "display_data",
          "data": {
            "text/plain": [
              "<Figure size 1152x1152 with 1 Axes>"
            ],
            "image/png": "[encoded data removed]"
          },
          "metadata": {
            "needs_background": "light"
          }
        }
      ]
    },
    {
      "cell_type": "markdown",
      "source": [
        "# INSIGHTS & EVALUATION "
      ],
      "metadata": {
        "id": "n40P2IYkLVsZ"
      }
    },
    {
      "cell_type": "markdown",
      "source": [
        "## Linear Regression Model:\n",
        "\n",
        "### TRAINING SCORES:\n",
        " \n",
        "    MAE: 847.31 \n",
        "    MSE: 1,300,356.79 \n",
        "    RMSE: 1,140.33 \n",
        "    R2: 0.56\n",
        "\n",
        "### TEST SCORES:\n",
        " \n",
        "    MAE: 805.93 \n",
        "    MSE: 1,198,531.07 \n",
        "    RMSE: 1,094.77 \n",
        "    R2: 0.57\n",
        "\n",
        "## Basic Regression Tree Model:\n",
        "\n",
        "### TRAINING SCORES:\n",
        " \n",
        "    MAE: 762.61 \n",
        "    MSE: 1,172,122.77 \n",
        "    RMSE: 1,082.65 \n",
        "    R2: 0.60\n",
        "\n",
        "### TEST SCORES:\n",
        " \n",
        "    MAE: 738.32 \n",
        "    MSE: 1,118,185.97 \n",
        "    RMSE: 1,057.44 \n",
        "    R2: 0.59\n",
        "\n",
        "We were able to predict sales outcomes within roughly 740 dollars of the acutal \"Item Outlet Sales\" values. The Mean Absolute Error of 738.32 represents 33.4% of our average outlet sale of 2181.30.\n",
        "\n",
        "Both the Linear Regression and Regression Tree models exhibit high bias or \n",
        "underfitting - meaning that they have difficulty formulating predictions on \n",
        "training and testing data regardless of which featrues are used from current matrix. Their respective test and training scores are close in value but \n",
        "ultimately too low to inspire confidence in their performance. "
      ],
      "metadata": {
        "id": "HnrqQQD_KtB9"
      }
    },
    {
      "cell_type": "markdown",
      "source": [
        "# SUMMARY"
      ],
      "metadata": {
        "id": "ZsET9NqYLf4c"
      }
    },
    {
      "cell_type": "markdown",
      "source": [
        "Observation: \n",
        "\n",
        "It is evident from the correlation matrix and model test scores that there are few features that are positively correlated with our target. After Item Maximum Retail Price, with a positive correlation value of 0.57, the strongest correlation with our target is Item weight with a value of 0.012 – this is an insignificant correlation. Without 3 or more strongly correlated features the performance of most models would be in question. Several of the columns provided in the dataset are inherently ineffective in efforts to predict sales outcomes. Item Identifier, Outlet Identifier and Outlet Establishment Year are such columns.\n",
        "\n",
        "Proposed Solution: \n",
        "\n",
        "I would also suggest that the stakeholders explore metrics related to foot traffic, neighboring/anchor tenants, and demographical metrics (populations size, average age, marital status, number of children, education level, income, occupation, etc.). These metrics would help the models and stakeholders learn more about the habits and preferences of their local customers. The addition of these new features in conjunction with more data for the current feature columns would drastically improve the complexity, and predictive capacity of the current models, laying the foundation for definitive decision making and confidence capital re-allocation."
      ],
      "metadata": {
        "id": "7jIb-9Y6OAhY"
      }
    }
  ]
}